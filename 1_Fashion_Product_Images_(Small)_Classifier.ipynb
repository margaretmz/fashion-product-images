{
  "nbformat": 4,
  "nbformat_minor": 0,
  "metadata": {
    "colab": {
      "name": "1_Fashion Product Images (Small)_Classifier.ipynb",
      "provenance": [],
      "collapsed_sections": [
        "kKagiEvDiRXX"
      ],
      "toc_visible": true,
      "authorship_tag": "ABX9TyMxqXjqDdjhGgeoyQaacMRa",
      "include_colab_link": true
    },
    "kernelspec": {
      "name": "python3",
      "display_name": "Python 3"
    },
    "accelerator": "GPU"
  },
  "cells": [
    {
      "cell_type": "markdown",
      "metadata": {
        "id": "view-in-github",
        "colab_type": "text"
      },
      "source": [
        "<a href=\"https://colab.research.google.com/github/margaretmz/fashion-product-images/blob/main/1_Fashion_Product_Images_(Small)_Classifier.ipynb\" target=\"_parent\"><img src=\"https://colab.research.google.com/assets/colab-badge.svg\" alt=\"Open In Colab\"/></a>"
      ]
    },
    {
      "cell_type": "markdown",
      "metadata": {
        "id": "pIre8eMiKpS_"
      },
      "source": [
        "# Fashion Classifier\n",
        "\n",
        "Written by Margaret Maynard-Reid, 6/13/2021\n",
        "\n",
        "This is a classifier with [Kaggle data the Fashion Product Images (Small)](https://www.kaggle.com/paramaggarwal/fashion-product-images-small). Please refer to the data analysis notebook for details on data exploration and visualization. This notebook will focus on how to use transfer learnig to train a classifier on fashion data."
      ]
    },
    {
      "cell_type": "markdown",
      "metadata": {
        "colab_type": "toc",
        "id": "I4ty6z0bLfY_"
      },
      "source": [
        ">[Fashion Classifier](#scrollTo=pIre8eMiKpS_)\n",
        "\n",
        ">>[Imports](#scrollTo=aE-An1Tgz1g6)\n",
        "\n",
        ">>[Data Prepraration](#scrollTo=rqYeQt6Vja-o)\n",
        "\n",
        ">>>[Download data from Kaggle](#scrollTo=wECGg6-GKAM3)\n",
        "\n",
        ">>>[Create dataframe](#scrollTo=F6_0HiCIRfWD)\n",
        "\n",
        ">>>[Add image file column](#scrollTo=8H8oC7f0mzdo)\n",
        "\n",
        ">>>[Drop data from dataframe](#scrollTo=uAyX-3Ncg38Z)\n",
        "\n",
        ">>>>[Drop sub categories with fewer images](#scrollTo=FGzk-sfcwdUI)\n",
        "\n",
        ">>>>[Drop rows from TopWear](#scrollTo=9Y81ouv6wfMY)\n",
        "\n",
        ">>>[Create train and test dataframes](#scrollTo=YsZAkbyA2O1H)\n",
        "\n",
        ">>>[Train, Validation & Test datasets](#scrollTo=eZkV4xukK7Lj)\n",
        "\n",
        ">>[Model](#scrollTo=zPTAc2FYr00R)\n",
        "\n",
        ">>>[Base Model](#scrollTo=mEu5gePTLunl)\n",
        "\n",
        ">>>[Add classifier head](#scrollTo=zYWy4VLjF5Pu)\n",
        "\n",
        ">>>[Train the model](#scrollTo=Sie7AHjzjKu8)\n",
        "\n",
        ">>>[Learning curves](#scrollTo=93aksfsQ30Rh)\n",
        "\n",
        ">>[Evaluate model](#scrollTo=M3Mi6WaT4HmR)\n",
        "\n",
        ">>>[Evaluate on test generator](#scrollTo=3a2L0bAgDsf8)\n",
        "\n",
        ">>>[Visualize model prediction](#scrollTo=rRZICLtcC_7h)\n",
        "\n",
        ">>>[Test manually on individual images](#scrollTo=9Bx1WV2xEPyY)\n",
        "\n"
      ]
    },
    {
      "cell_type": "markdown",
      "metadata": {
        "id": "aE-An1Tgz1g6"
      },
      "source": [
        "## Imports"
      ]
    },
    {
      "cell_type": "code",
      "metadata": {
        "id": "pC7e-ytaBYHf"
      },
      "source": [
        "import tensorflow as tf\n",
        "import pandas as pd\n",
        "import numpy as np\n",
        "import matplotlib.pyplot as plt\n",
        "import seaborn as sns\n",
        "import os\n",
        "from tensorflow.keras.preprocessing import image "
      ],
      "execution_count": 1,
      "outputs": []
    },
    {
      "cell_type": "code",
      "metadata": {
        "colab": {
          "base_uri": "https://localhost:8080/",
          "height": 35
        },
        "id": "nyz9I-Kyt2Ms",
        "outputId": "fd3a812d-133e-472c-f893-e3ddd15c7705"
      },
      "source": [
        "# TensorFlow version in this notebook\n",
        "tf.version.VERSION"
      ],
      "execution_count": 2,
      "outputs": [
        {
          "output_type": "execute_result",
          "data": {
            "application/vnd.google.colaboratory.intrinsic+json": {
              "type": "string"
            },
            "text/plain": [
              "'2.5.0'"
            ]
          },
          "metadata": {
            "tags": []
          },
          "execution_count": 2
        }
      ]
    },
    {
      "cell_type": "markdown",
      "metadata": {
        "id": "rqYeQt6Vja-o"
      },
      "source": [
        "## Data Prepraration"
      ]
    },
    {
      "cell_type": "markdown",
      "metadata": {
        "id": "wECGg6-GKAM3"
      },
      "source": [
        "### Download data from Kaggle\n",
        "Navigate to https://www.kaggle.com. Then go to the [Account tab of your user profile](https://www.kaggle.com/me/account) and select Create API Token. This will trigger the download of kaggle.json, a file containing your API credentials. Now you can enter your username and key below to in order to download Kaggle data from Colab. "
      ]
    },
    {
      "cell_type": "code",
      "metadata": {
        "id": "npsBar6OjlcA"
      },
      "source": [
        "os.environ['KAGGLE_USERNAME']=\"enter-your-own-user-name\" #TODO remove this\n",
        "os.environ['KAGGLE_KEY']=\"enter-your-own-user-name\" #TODO: remove this"
      ],
      "execution_count": null,
      "outputs": []
    },
    {
      "cell_type": "code",
      "metadata": {
        "colab": {
          "base_uri": "https://localhost:8080/"
        },
        "id": "1AtC726okj-w",
        "outputId": "4d11b394-7fbf-45d0-c1f9-9a365c99610a"
      },
      "source": [
        "!kaggle datasets download -d paramaggarwal/fashion-product-images-small"
      ],
      "execution_count": null,
      "outputs": [
        {
          "output_type": "stream",
          "text": [
            "Downloading fashion-product-images-small.zip to /content\n",
            " 98% 556M/565M [00:06<00:00, 121MB/s]\n",
            "100% 565M/565M [00:06<00:00, 97.4MB/s]\n"
          ],
          "name": "stdout"
        }
      ]
    },
    {
      "cell_type": "code",
      "metadata": {
        "id": "1BEHMLsdlHWc"
      },
      "source": [
        "!mkdir -p datasets"
      ],
      "execution_count": null,
      "outputs": []
    },
    {
      "cell_type": "code",
      "metadata": {
        "id": "RS3gBsjflMXO"
      },
      "source": [
        "# TODO: clear output\n",
        "!unzip fashion-product-images-small.zip -d datasets/"
      ],
      "execution_count": null,
      "outputs": []
    },
    {
      "cell_type": "markdown",
      "metadata": {
        "id": "F6_0HiCIRfWD"
      },
      "source": [
        "### Create dataframe"
      ]
    },
    {
      "cell_type": "code",
      "metadata": {
        "id": "wZVrHXUh42fu"
      },
      "source": [
        "fashion = pd.read_csv(\"datasets/styles.csv\", error_bad_lines=False, warn_bad_lines=False)"
      ],
      "execution_count": 59,
      "outputs": []
    },
    {
      "cell_type": "code",
      "metadata": {
        "id": "qCnX4JKX6jlu",
        "colab": {
          "base_uri": "https://localhost:8080/",
          "height": 142
        },
        "outputId": "fe2e6744-30ef-49b1-c1de-8a4402033e71"
      },
      "source": [
        "fashion.head(3)"
      ],
      "execution_count": 60,
      "outputs": [
        {
          "output_type": "execute_result",
          "data": {
            "text/html": [
              "<div>\n",
              "<style scoped>\n",
              "    .dataframe tbody tr th:only-of-type {\n",
              "        vertical-align: middle;\n",
              "    }\n",
              "\n",
              "    .dataframe tbody tr th {\n",
              "        vertical-align: top;\n",
              "    }\n",
              "\n",
              "    .dataframe thead th {\n",
              "        text-align: right;\n",
              "    }\n",
              "</style>\n",
              "<table border=\"1\" class=\"dataframe\">\n",
              "  <thead>\n",
              "    <tr style=\"text-align: right;\">\n",
              "      <th></th>\n",
              "      <th>id</th>\n",
              "      <th>gender</th>\n",
              "      <th>masterCategory</th>\n",
              "      <th>subCategory</th>\n",
              "      <th>articleType</th>\n",
              "      <th>baseColour</th>\n",
              "      <th>season</th>\n",
              "      <th>year</th>\n",
              "      <th>usage</th>\n",
              "      <th>productDisplayName</th>\n",
              "    </tr>\n",
              "  </thead>\n",
              "  <tbody>\n",
              "    <tr>\n",
              "      <th>0</th>\n",
              "      <td>15970</td>\n",
              "      <td>Men</td>\n",
              "      <td>Apparel</td>\n",
              "      <td>Topwear</td>\n",
              "      <td>Shirts</td>\n",
              "      <td>Navy Blue</td>\n",
              "      <td>Fall</td>\n",
              "      <td>2011.0</td>\n",
              "      <td>Casual</td>\n",
              "      <td>Turtle Check Men Navy Blue Shirt</td>\n",
              "    </tr>\n",
              "    <tr>\n",
              "      <th>1</th>\n",
              "      <td>39386</td>\n",
              "      <td>Men</td>\n",
              "      <td>Apparel</td>\n",
              "      <td>Bottomwear</td>\n",
              "      <td>Jeans</td>\n",
              "      <td>Blue</td>\n",
              "      <td>Summer</td>\n",
              "      <td>2012.0</td>\n",
              "      <td>Casual</td>\n",
              "      <td>Peter England Men Party Blue Jeans</td>\n",
              "    </tr>\n",
              "    <tr>\n",
              "      <th>2</th>\n",
              "      <td>59263</td>\n",
              "      <td>Women</td>\n",
              "      <td>Accessories</td>\n",
              "      <td>Watches</td>\n",
              "      <td>Watches</td>\n",
              "      <td>Silver</td>\n",
              "      <td>Winter</td>\n",
              "      <td>2016.0</td>\n",
              "      <td>Casual</td>\n",
              "      <td>Titan Women Silver Watch</td>\n",
              "    </tr>\n",
              "  </tbody>\n",
              "</table>\n",
              "</div>"
            ],
            "text/plain": [
              "      id gender  ...   usage                  productDisplayName\n",
              "0  15970    Men  ...  Casual    Turtle Check Men Navy Blue Shirt\n",
              "1  39386    Men  ...  Casual  Peter England Men Party Blue Jeans\n",
              "2  59263  Women  ...  Casual            Titan Women Silver Watch\n",
              "\n",
              "[3 rows x 10 columns]"
            ]
          },
          "metadata": {
            "tags": []
          },
          "execution_count": 60
        }
      ]
    },
    {
      "cell_type": "markdown",
      "metadata": {
        "id": "6_XYXxVdT64S"
      },
      "source": [
        "There are total of 44,424 images in the dataset with ten columns: id, gender, masterCategory, subCategory, articleType, baseColor, season, year, usage and productDisplayName."
      ]
    },
    {
      "cell_type": "code",
      "metadata": {
        "id": "3IJ-Jp-Y7htv",
        "colab": {
          "base_uri": "https://localhost:8080/",
          "height": 390
        },
        "outputId": "f658d0b0-3b1b-4e6c-e698-da740811ca13"
      },
      "source": [
        "fashion.describe(include='all')"
      ],
      "execution_count": 9,
      "outputs": [
        {
          "output_type": "execute_result",
          "data": {
            "text/html": [
              "<div>\n",
              "<style scoped>\n",
              "    .dataframe tbody tr th:only-of-type {\n",
              "        vertical-align: middle;\n",
              "    }\n",
              "\n",
              "    .dataframe tbody tr th {\n",
              "        vertical-align: top;\n",
              "    }\n",
              "\n",
              "    .dataframe thead th {\n",
              "        text-align: right;\n",
              "    }\n",
              "</style>\n",
              "<table border=\"1\" class=\"dataframe\">\n",
              "  <thead>\n",
              "    <tr style=\"text-align: right;\">\n",
              "      <th></th>\n",
              "      <th>id</th>\n",
              "      <th>gender</th>\n",
              "      <th>masterCategory</th>\n",
              "      <th>subCategory</th>\n",
              "      <th>articleType</th>\n",
              "      <th>baseColour</th>\n",
              "      <th>season</th>\n",
              "      <th>year</th>\n",
              "      <th>usage</th>\n",
              "      <th>productDisplayName</th>\n",
              "    </tr>\n",
              "  </thead>\n",
              "  <tbody>\n",
              "    <tr>\n",
              "      <th>count</th>\n",
              "      <td>44424.000000</td>\n",
              "      <td>44424</td>\n",
              "      <td>44424</td>\n",
              "      <td>44424</td>\n",
              "      <td>44424</td>\n",
              "      <td>44409</td>\n",
              "      <td>44403</td>\n",
              "      <td>44423.000000</td>\n",
              "      <td>44107</td>\n",
              "      <td>44417</td>\n",
              "    </tr>\n",
              "    <tr>\n",
              "      <th>unique</th>\n",
              "      <td>NaN</td>\n",
              "      <td>5</td>\n",
              "      <td>7</td>\n",
              "      <td>45</td>\n",
              "      <td>143</td>\n",
              "      <td>46</td>\n",
              "      <td>4</td>\n",
              "      <td>NaN</td>\n",
              "      <td>8</td>\n",
              "      <td>31121</td>\n",
              "    </tr>\n",
              "    <tr>\n",
              "      <th>top</th>\n",
              "      <td>NaN</td>\n",
              "      <td>Men</td>\n",
              "      <td>Apparel</td>\n",
              "      <td>Topwear</td>\n",
              "      <td>Tshirts</td>\n",
              "      <td>Black</td>\n",
              "      <td>Summer</td>\n",
              "      <td>NaN</td>\n",
              "      <td>Casual</td>\n",
              "      <td>Lucera Women Silver Earrings</td>\n",
              "    </tr>\n",
              "    <tr>\n",
              "      <th>freq</th>\n",
              "      <td>NaN</td>\n",
              "      <td>22147</td>\n",
              "      <td>21397</td>\n",
              "      <td>15402</td>\n",
              "      <td>7067</td>\n",
              "      <td>9728</td>\n",
              "      <td>21472</td>\n",
              "      <td>NaN</td>\n",
              "      <td>34406</td>\n",
              "      <td>82</td>\n",
              "    </tr>\n",
              "    <tr>\n",
              "      <th>mean</th>\n",
              "      <td>29696.334301</td>\n",
              "      <td>NaN</td>\n",
              "      <td>NaN</td>\n",
              "      <td>NaN</td>\n",
              "      <td>NaN</td>\n",
              "      <td>NaN</td>\n",
              "      <td>NaN</td>\n",
              "      <td>2012.806497</td>\n",
              "      <td>NaN</td>\n",
              "      <td>NaN</td>\n",
              "    </tr>\n",
              "    <tr>\n",
              "      <th>std</th>\n",
              "      <td>17049.490518</td>\n",
              "      <td>NaN</td>\n",
              "      <td>NaN</td>\n",
              "      <td>NaN</td>\n",
              "      <td>NaN</td>\n",
              "      <td>NaN</td>\n",
              "      <td>NaN</td>\n",
              "      <td>2.126480</td>\n",
              "      <td>NaN</td>\n",
              "      <td>NaN</td>\n",
              "    </tr>\n",
              "    <tr>\n",
              "      <th>min</th>\n",
              "      <td>1163.000000</td>\n",
              "      <td>NaN</td>\n",
              "      <td>NaN</td>\n",
              "      <td>NaN</td>\n",
              "      <td>NaN</td>\n",
              "      <td>NaN</td>\n",
              "      <td>NaN</td>\n",
              "      <td>2007.000000</td>\n",
              "      <td>NaN</td>\n",
              "      <td>NaN</td>\n",
              "    </tr>\n",
              "    <tr>\n",
              "      <th>25%</th>\n",
              "      <td>14768.750000</td>\n",
              "      <td>NaN</td>\n",
              "      <td>NaN</td>\n",
              "      <td>NaN</td>\n",
              "      <td>NaN</td>\n",
              "      <td>NaN</td>\n",
              "      <td>NaN</td>\n",
              "      <td>2011.000000</td>\n",
              "      <td>NaN</td>\n",
              "      <td>NaN</td>\n",
              "    </tr>\n",
              "    <tr>\n",
              "      <th>50%</th>\n",
              "      <td>28618.500000</td>\n",
              "      <td>NaN</td>\n",
              "      <td>NaN</td>\n",
              "      <td>NaN</td>\n",
              "      <td>NaN</td>\n",
              "      <td>NaN</td>\n",
              "      <td>NaN</td>\n",
              "      <td>2012.000000</td>\n",
              "      <td>NaN</td>\n",
              "      <td>NaN</td>\n",
              "    </tr>\n",
              "    <tr>\n",
              "      <th>75%</th>\n",
              "      <td>44683.250000</td>\n",
              "      <td>NaN</td>\n",
              "      <td>NaN</td>\n",
              "      <td>NaN</td>\n",
              "      <td>NaN</td>\n",
              "      <td>NaN</td>\n",
              "      <td>NaN</td>\n",
              "      <td>2015.000000</td>\n",
              "      <td>NaN</td>\n",
              "      <td>NaN</td>\n",
              "    </tr>\n",
              "    <tr>\n",
              "      <th>max</th>\n",
              "      <td>60000.000000</td>\n",
              "      <td>NaN</td>\n",
              "      <td>NaN</td>\n",
              "      <td>NaN</td>\n",
              "      <td>NaN</td>\n",
              "      <td>NaN</td>\n",
              "      <td>NaN</td>\n",
              "      <td>2019.000000</td>\n",
              "      <td>NaN</td>\n",
              "      <td>NaN</td>\n",
              "    </tr>\n",
              "  </tbody>\n",
              "</table>\n",
              "</div>"
            ],
            "text/plain": [
              "                  id gender  ...   usage            productDisplayName\n",
              "count   44424.000000  44424  ...   44107                         44417\n",
              "unique           NaN      5  ...       8                         31121\n",
              "top              NaN    Men  ...  Casual  Lucera Women Silver Earrings\n",
              "freq             NaN  22147  ...   34406                            82\n",
              "mean    29696.334301    NaN  ...     NaN                           NaN\n",
              "std     17049.490518    NaN  ...     NaN                           NaN\n",
              "min      1163.000000    NaN  ...     NaN                           NaN\n",
              "25%     14768.750000    NaN  ...     NaN                           NaN\n",
              "50%     28618.500000    NaN  ...     NaN                           NaN\n",
              "75%     44683.250000    NaN  ...     NaN                           NaN\n",
              "max     60000.000000    NaN  ...     NaN                           NaN\n",
              "\n",
              "[11 rows x 10 columns]"
            ]
          },
          "metadata": {
            "tags": []
          },
          "execution_count": 9
        }
      ]
    },
    {
      "cell_type": "code",
      "metadata": {
        "id": "ND1QdXdrA-RN",
        "colab": {
          "base_uri": "https://localhost:8080/"
        },
        "outputId": "4602a3eb-c505-4c7d-8266-3b3b0dee74cb"
      },
      "source": [
        "fashion.info()"
      ],
      "execution_count": 10,
      "outputs": [
        {
          "output_type": "stream",
          "text": [
            "<class 'pandas.core.frame.DataFrame'>\n",
            "RangeIndex: 44424 entries, 0 to 44423\n",
            "Data columns (total 10 columns):\n",
            " #   Column              Non-Null Count  Dtype  \n",
            "---  ------              --------------  -----  \n",
            " 0   id                  44424 non-null  int64  \n",
            " 1   gender              44424 non-null  object \n",
            " 2   masterCategory      44424 non-null  object \n",
            " 3   subCategory         44424 non-null  object \n",
            " 4   articleType         44424 non-null  object \n",
            " 5   baseColour          44409 non-null  object \n",
            " 6   season              44403 non-null  object \n",
            " 7   year                44423 non-null  float64\n",
            " 8   usage               44107 non-null  object \n",
            " 9   productDisplayName  44417 non-null  object \n",
            "dtypes: float64(1), int64(1), object(8)\n",
            "memory usage: 3.4+ MB\n"
          ],
          "name": "stdout"
        }
      ]
    },
    {
      "cell_type": "markdown",
      "metadata": {
        "id": "8H8oC7f0mzdo"
      },
      "source": [
        "### Add image file column\n",
        "The id column corresponds to the image file names. We will add a new column to capture the file names so that we can use it later on with Keras ImageDataGenerator."
      ]
    },
    {
      "cell_type": "code",
      "metadata": {
        "id": "3cdQGShymHxQ"
      },
      "source": [
        "# Add a new column called 'image' with the image file names\n",
        "fashion['image_filename'] = fashion.apply(lambda row: str(row['id']) + \".jpg\", axis=1)"
      ],
      "execution_count": 11,
      "outputs": []
    },
    {
      "cell_type": "code",
      "metadata": {
        "colab": {
          "base_uri": "https://localhost:8080/",
          "height": 419
        },
        "id": "WF4sIqi7grJA",
        "outputId": "6ea37ddb-e0ee-40c0-ffbe-eb8f9632bcc5"
      },
      "source": [
        "fashion.reset_index(drop=True)"
      ],
      "execution_count": 12,
      "outputs": [
        {
          "output_type": "execute_result",
          "data": {
            "text/html": [
              "<div>\n",
              "<style scoped>\n",
              "    .dataframe tbody tr th:only-of-type {\n",
              "        vertical-align: middle;\n",
              "    }\n",
              "\n",
              "    .dataframe tbody tr th {\n",
              "        vertical-align: top;\n",
              "    }\n",
              "\n",
              "    .dataframe thead th {\n",
              "        text-align: right;\n",
              "    }\n",
              "</style>\n",
              "<table border=\"1\" class=\"dataframe\">\n",
              "  <thead>\n",
              "    <tr style=\"text-align: right;\">\n",
              "      <th></th>\n",
              "      <th>id</th>\n",
              "      <th>gender</th>\n",
              "      <th>masterCategory</th>\n",
              "      <th>subCategory</th>\n",
              "      <th>articleType</th>\n",
              "      <th>baseColour</th>\n",
              "      <th>season</th>\n",
              "      <th>year</th>\n",
              "      <th>usage</th>\n",
              "      <th>productDisplayName</th>\n",
              "      <th>image_filename</th>\n",
              "    </tr>\n",
              "  </thead>\n",
              "  <tbody>\n",
              "    <tr>\n",
              "      <th>0</th>\n",
              "      <td>15970</td>\n",
              "      <td>Men</td>\n",
              "      <td>Apparel</td>\n",
              "      <td>Topwear</td>\n",
              "      <td>Shirts</td>\n",
              "      <td>Navy Blue</td>\n",
              "      <td>Fall</td>\n",
              "      <td>2011.0</td>\n",
              "      <td>Casual</td>\n",
              "      <td>Turtle Check Men Navy Blue Shirt</td>\n",
              "      <td>15970.jpg</td>\n",
              "    </tr>\n",
              "    <tr>\n",
              "      <th>1</th>\n",
              "      <td>39386</td>\n",
              "      <td>Men</td>\n",
              "      <td>Apparel</td>\n",
              "      <td>Bottomwear</td>\n",
              "      <td>Jeans</td>\n",
              "      <td>Blue</td>\n",
              "      <td>Summer</td>\n",
              "      <td>2012.0</td>\n",
              "      <td>Casual</td>\n",
              "      <td>Peter England Men Party Blue Jeans</td>\n",
              "      <td>39386.jpg</td>\n",
              "    </tr>\n",
              "    <tr>\n",
              "      <th>2</th>\n",
              "      <td>59263</td>\n",
              "      <td>Women</td>\n",
              "      <td>Accessories</td>\n",
              "      <td>Watches</td>\n",
              "      <td>Watches</td>\n",
              "      <td>Silver</td>\n",
              "      <td>Winter</td>\n",
              "      <td>2016.0</td>\n",
              "      <td>Casual</td>\n",
              "      <td>Titan Women Silver Watch</td>\n",
              "      <td>59263.jpg</td>\n",
              "    </tr>\n",
              "    <tr>\n",
              "      <th>3</th>\n",
              "      <td>21379</td>\n",
              "      <td>Men</td>\n",
              "      <td>Apparel</td>\n",
              "      <td>Bottomwear</td>\n",
              "      <td>Track Pants</td>\n",
              "      <td>Black</td>\n",
              "      <td>Fall</td>\n",
              "      <td>2011.0</td>\n",
              "      <td>Casual</td>\n",
              "      <td>Manchester United Men Solid Black Track Pants</td>\n",
              "      <td>21379.jpg</td>\n",
              "    </tr>\n",
              "    <tr>\n",
              "      <th>4</th>\n",
              "      <td>53759</td>\n",
              "      <td>Men</td>\n",
              "      <td>Apparel</td>\n",
              "      <td>Topwear</td>\n",
              "      <td>Tshirts</td>\n",
              "      <td>Grey</td>\n",
              "      <td>Summer</td>\n",
              "      <td>2012.0</td>\n",
              "      <td>Casual</td>\n",
              "      <td>Puma Men Grey T-shirt</td>\n",
              "      <td>53759.jpg</td>\n",
              "    </tr>\n",
              "    <tr>\n",
              "      <th>...</th>\n",
              "      <td>...</td>\n",
              "      <td>...</td>\n",
              "      <td>...</td>\n",
              "      <td>...</td>\n",
              "      <td>...</td>\n",
              "      <td>...</td>\n",
              "      <td>...</td>\n",
              "      <td>...</td>\n",
              "      <td>...</td>\n",
              "      <td>...</td>\n",
              "      <td>...</td>\n",
              "    </tr>\n",
              "    <tr>\n",
              "      <th>44419</th>\n",
              "      <td>17036</td>\n",
              "      <td>Men</td>\n",
              "      <td>Footwear</td>\n",
              "      <td>Shoes</td>\n",
              "      <td>Casual Shoes</td>\n",
              "      <td>White</td>\n",
              "      <td>Summer</td>\n",
              "      <td>2013.0</td>\n",
              "      <td>Casual</td>\n",
              "      <td>Gas Men Caddy Casual Shoe</td>\n",
              "      <td>17036.jpg</td>\n",
              "    </tr>\n",
              "    <tr>\n",
              "      <th>44420</th>\n",
              "      <td>6461</td>\n",
              "      <td>Men</td>\n",
              "      <td>Footwear</td>\n",
              "      <td>Flip Flops</td>\n",
              "      <td>Flip Flops</td>\n",
              "      <td>Red</td>\n",
              "      <td>Summer</td>\n",
              "      <td>2011.0</td>\n",
              "      <td>Casual</td>\n",
              "      <td>Lotto Men's Soccer Track Flip Flop</td>\n",
              "      <td>6461.jpg</td>\n",
              "    </tr>\n",
              "    <tr>\n",
              "      <th>44421</th>\n",
              "      <td>18842</td>\n",
              "      <td>Men</td>\n",
              "      <td>Apparel</td>\n",
              "      <td>Topwear</td>\n",
              "      <td>Tshirts</td>\n",
              "      <td>Blue</td>\n",
              "      <td>Fall</td>\n",
              "      <td>2011.0</td>\n",
              "      <td>Casual</td>\n",
              "      <td>Puma Men Graphic Stellar Blue Tshirt</td>\n",
              "      <td>18842.jpg</td>\n",
              "    </tr>\n",
              "    <tr>\n",
              "      <th>44422</th>\n",
              "      <td>46694</td>\n",
              "      <td>Women</td>\n",
              "      <td>Personal Care</td>\n",
              "      <td>Fragrance</td>\n",
              "      <td>Perfume and Body Mist</td>\n",
              "      <td>Blue</td>\n",
              "      <td>Spring</td>\n",
              "      <td>2017.0</td>\n",
              "      <td>Casual</td>\n",
              "      <td>Rasasi Women Blue Lady Perfume</td>\n",
              "      <td>46694.jpg</td>\n",
              "    </tr>\n",
              "    <tr>\n",
              "      <th>44423</th>\n",
              "      <td>51623</td>\n",
              "      <td>Women</td>\n",
              "      <td>Accessories</td>\n",
              "      <td>Watches</td>\n",
              "      <td>Watches</td>\n",
              "      <td>Pink</td>\n",
              "      <td>Winter</td>\n",
              "      <td>2016.0</td>\n",
              "      <td>Casual</td>\n",
              "      <td>Fossil Women Pink Dial Chronograph Watch ES3050</td>\n",
              "      <td>51623.jpg</td>\n",
              "    </tr>\n",
              "  </tbody>\n",
              "</table>\n",
              "<p>44424 rows × 11 columns</p>\n",
              "</div>"
            ],
            "text/plain": [
              "          id  ... image_filename\n",
              "0      15970  ...      15970.jpg\n",
              "1      39386  ...      39386.jpg\n",
              "2      59263  ...      59263.jpg\n",
              "3      21379  ...      21379.jpg\n",
              "4      53759  ...      53759.jpg\n",
              "...      ...  ...            ...\n",
              "44419  17036  ...      17036.jpg\n",
              "44420   6461  ...       6461.jpg\n",
              "44421  18842  ...      18842.jpg\n",
              "44422  46694  ...      46694.jpg\n",
              "44423  51623  ...      51623.jpg\n",
              "\n",
              "[44424 rows x 11 columns]"
            ]
          },
          "metadata": {
            "tags": []
          },
          "execution_count": 12
        }
      ]
    },
    {
      "cell_type": "code",
      "metadata": {
        "colab": {
          "base_uri": "https://localhost:8080/",
          "height": 204
        },
        "id": "Qb1HSMOco8j8",
        "outputId": "dec03e0d-7676-403e-9385-e0c541d3d91c"
      },
      "source": [
        "fashion.head()"
      ],
      "execution_count": 13,
      "outputs": [
        {
          "output_type": "execute_result",
          "data": {
            "text/html": [
              "<div>\n",
              "<style scoped>\n",
              "    .dataframe tbody tr th:only-of-type {\n",
              "        vertical-align: middle;\n",
              "    }\n",
              "\n",
              "    .dataframe tbody tr th {\n",
              "        vertical-align: top;\n",
              "    }\n",
              "\n",
              "    .dataframe thead th {\n",
              "        text-align: right;\n",
              "    }\n",
              "</style>\n",
              "<table border=\"1\" class=\"dataframe\">\n",
              "  <thead>\n",
              "    <tr style=\"text-align: right;\">\n",
              "      <th></th>\n",
              "      <th>id</th>\n",
              "      <th>gender</th>\n",
              "      <th>masterCategory</th>\n",
              "      <th>subCategory</th>\n",
              "      <th>articleType</th>\n",
              "      <th>baseColour</th>\n",
              "      <th>season</th>\n",
              "      <th>year</th>\n",
              "      <th>usage</th>\n",
              "      <th>productDisplayName</th>\n",
              "      <th>image_filename</th>\n",
              "    </tr>\n",
              "  </thead>\n",
              "  <tbody>\n",
              "    <tr>\n",
              "      <th>0</th>\n",
              "      <td>15970</td>\n",
              "      <td>Men</td>\n",
              "      <td>Apparel</td>\n",
              "      <td>Topwear</td>\n",
              "      <td>Shirts</td>\n",
              "      <td>Navy Blue</td>\n",
              "      <td>Fall</td>\n",
              "      <td>2011.0</td>\n",
              "      <td>Casual</td>\n",
              "      <td>Turtle Check Men Navy Blue Shirt</td>\n",
              "      <td>15970.jpg</td>\n",
              "    </tr>\n",
              "    <tr>\n",
              "      <th>1</th>\n",
              "      <td>39386</td>\n",
              "      <td>Men</td>\n",
              "      <td>Apparel</td>\n",
              "      <td>Bottomwear</td>\n",
              "      <td>Jeans</td>\n",
              "      <td>Blue</td>\n",
              "      <td>Summer</td>\n",
              "      <td>2012.0</td>\n",
              "      <td>Casual</td>\n",
              "      <td>Peter England Men Party Blue Jeans</td>\n",
              "      <td>39386.jpg</td>\n",
              "    </tr>\n",
              "    <tr>\n",
              "      <th>2</th>\n",
              "      <td>59263</td>\n",
              "      <td>Women</td>\n",
              "      <td>Accessories</td>\n",
              "      <td>Watches</td>\n",
              "      <td>Watches</td>\n",
              "      <td>Silver</td>\n",
              "      <td>Winter</td>\n",
              "      <td>2016.0</td>\n",
              "      <td>Casual</td>\n",
              "      <td>Titan Women Silver Watch</td>\n",
              "      <td>59263.jpg</td>\n",
              "    </tr>\n",
              "    <tr>\n",
              "      <th>3</th>\n",
              "      <td>21379</td>\n",
              "      <td>Men</td>\n",
              "      <td>Apparel</td>\n",
              "      <td>Bottomwear</td>\n",
              "      <td>Track Pants</td>\n",
              "      <td>Black</td>\n",
              "      <td>Fall</td>\n",
              "      <td>2011.0</td>\n",
              "      <td>Casual</td>\n",
              "      <td>Manchester United Men Solid Black Track Pants</td>\n",
              "      <td>21379.jpg</td>\n",
              "    </tr>\n",
              "    <tr>\n",
              "      <th>4</th>\n",
              "      <td>53759</td>\n",
              "      <td>Men</td>\n",
              "      <td>Apparel</td>\n",
              "      <td>Topwear</td>\n",
              "      <td>Tshirts</td>\n",
              "      <td>Grey</td>\n",
              "      <td>Summer</td>\n",
              "      <td>2012.0</td>\n",
              "      <td>Casual</td>\n",
              "      <td>Puma Men Grey T-shirt</td>\n",
              "      <td>53759.jpg</td>\n",
              "    </tr>\n",
              "  </tbody>\n",
              "</table>\n",
              "</div>"
            ],
            "text/plain": [
              "      id gender  ...                             productDisplayName image_filename\n",
              "0  15970    Men  ...               Turtle Check Men Navy Blue Shirt      15970.jpg\n",
              "1  39386    Men  ...             Peter England Men Party Blue Jeans      39386.jpg\n",
              "2  59263  Women  ...                       Titan Women Silver Watch      59263.jpg\n",
              "3  21379    Men  ...  Manchester United Men Solid Black Track Pants      21379.jpg\n",
              "4  53759    Men  ...                          Puma Men Grey T-shirt      53759.jpg\n",
              "\n",
              "[5 rows x 11 columns]"
            ]
          },
          "metadata": {
            "tags": []
          },
          "execution_count": 13
        }
      ]
    },
    {
      "cell_type": "markdown",
      "metadata": {
        "id": "uAyX-3Ncg38Z"
      },
      "source": [
        "### Drop data from dataframe\n",
        "Data imbalance is a big issue so we will drop data based on sub category count, and also drop data from 'Topwear' sub category.\n"
      ]
    },
    {
      "cell_type": "markdown",
      "metadata": {
        "id": "FGzk-sfcwdUI"
      },
      "source": [
        "#### Drop sub categories with fewer images\n",
        "Since this classifier will be on sub category only, we will drop the sub categories that don't have enough images for model training. "
      ]
    },
    {
      "cell_type": "code",
      "metadata": {
        "colab": {
          "base_uri": "https://localhost:8080/"
        },
        "id": "i-82GFCcilBL",
        "outputId": "b6ddc1e9-732d-4e14-98a2-1cd82e968ca5"
      },
      "source": [
        "fashion.subCategory.value_counts()"
      ],
      "execution_count": 14,
      "outputs": [
        {
          "output_type": "execute_result",
          "data": {
            "text/plain": [
              "Topwear                     15402\n",
              "Shoes                        7343\n",
              "Bags                         3055\n",
              "Bottomwear                   2694\n",
              "Watches                      2542\n",
              "Innerwear                    1808\n",
              "Jewellery                    1079\n",
              "Eyewear                      1073\n",
              "Fragrance                    1011\n",
              "Sandal                        963\n",
              "Wallets                       933\n",
              "Flip Flops                    913\n",
              "Belts                         811\n",
              "Socks                         698\n",
              "Lips                          527\n",
              "Dress                         478\n",
              "Loungewear and Nightwear      470\n",
              "Saree                         427\n",
              "Nails                         329\n",
              "Makeup                        307\n",
              "Headwear                      293\n",
              "Ties                          258\n",
              "Accessories                   129\n",
              "Scarves                       118\n",
              "Cufflinks                     108\n",
              "Apparel Set                   106\n",
              "Free Gifts                    104\n",
              "Stoles                         90\n",
              "Skin Care                      77\n",
              "Skin                           69\n",
              "Eyes                           43\n",
              "Mufflers                       38\n",
              "Shoe Accessories               24\n",
              "Sports Equipment               21\n",
              "Gloves                         20\n",
              "Hair                           19\n",
              "Bath and Body                  12\n",
              "Water Bottle                    7\n",
              "Perfumes                        6\n",
              "Umbrellas                       6\n",
              "Beauty Accessories              4\n",
              "Wristbands                      4\n",
              "Sports Accessories              3\n",
              "Home Furnishing                 1\n",
              "Vouchers                        1\n",
              "Name: subCategory, dtype: int64"
            ]
          },
          "metadata": {
            "tags": []
          },
          "execution_count": 14
        }
      ]
    },
    {
      "cell_type": "code",
      "metadata": {
        "colab": {
          "base_uri": "https://localhost:8080/"
        },
        "id": "sFE0MuSyqWgP",
        "outputId": "117ef6a8-90ef-488e-e6d8-e45c2bb7f607"
      },
      "source": [
        "# Number of sub categories\n",
        "len(fashion.subCategory.value_counts())"
      ],
      "execution_count": 15,
      "outputs": [
        {
          "output_type": "execute_result",
          "data": {
            "text/plain": [
              "45"
            ]
          },
          "metadata": {
            "tags": []
          },
          "execution_count": 15
        }
      ]
    },
    {
      "cell_type": "code",
      "metadata": {
        "colab": {
          "base_uri": "https://localhost:8080/"
        },
        "id": "DAHNbk6jVYI9",
        "outputId": "0f2cda6a-f2b7-4da5-b04d-bb6bce379106"
      },
      "source": [
        "# There are 9 sub categories with more than 1000 examples\n",
        "fashion.groupby(['masterCategory','subCategory'])['id'].count()[lambda x: x >= 1000]"
      ],
      "execution_count": 16,
      "outputs": [
        {
          "output_type": "execute_result",
          "data": {
            "text/plain": [
              "masterCategory  subCategory\n",
              "Accessories     Bags            3055\n",
              "                Eyewear         1073\n",
              "                Jewellery       1079\n",
              "                Watches         2542\n",
              "Apparel         Bottomwear      2694\n",
              "                Innerwear       1808\n",
              "                Topwear        15402\n",
              "Footwear        Shoes           7343\n",
              "Personal Care   Fragrance       1011\n",
              "Name: id, dtype: int64"
            ]
          },
          "metadata": {
            "tags": []
          },
          "execution_count": 16
        }
      ]
    },
    {
      "cell_type": "code",
      "metadata": {
        "id": "56aM06fHhHpQ"
      },
      "source": [
        "# Get the count of each value\n",
        "value_counts = fashion['subCategory'].value_counts()\n",
        "\n",
        "# Select the values where the count is less than 500\n",
        "to_remove = value_counts[value_counts <= 1000].index\n",
        "\n",
        "# Keep rows where the subCatetory column is not in to_remove\n",
        "fashion = fashion[~fashion.subCategory.isin(to_remove)]"
      ],
      "execution_count": 17,
      "outputs": []
    },
    {
      "cell_type": "code",
      "metadata": {
        "colab": {
          "base_uri": "https://localhost:8080/"
        },
        "id": "MDjn1-8soz0L",
        "outputId": "e90d3d24-3a1b-426c-e126-42332522a576"
      },
      "source": [
        "fashion.groupby(['masterCategory','subCategory'])['id'].count()"
      ],
      "execution_count": 18,
      "outputs": [
        {
          "output_type": "execute_result",
          "data": {
            "text/plain": [
              "masterCategory  subCategory\n",
              "Accessories     Bags            3055\n",
              "                Eyewear         1073\n",
              "                Jewellery       1079\n",
              "                Watches         2542\n",
              "Apparel         Bottomwear      2694\n",
              "                Innerwear       1808\n",
              "                Topwear        15402\n",
              "Footwear        Shoes           7343\n",
              "Personal Care   Fragrance       1011\n",
              "Name: id, dtype: int64"
            ]
          },
          "metadata": {
            "tags": []
          },
          "execution_count": 18
        }
      ]
    },
    {
      "cell_type": "code",
      "metadata": {
        "colab": {
          "base_uri": "https://localhost:8080/"
        },
        "id": "FzJGeuCe3IRd",
        "outputId": "b6f6b6bf-d8d4-490e-c350-b05d4b5f0acb"
      },
      "source": [
        "# Now there are only 9 sub categories left in the dataframe\n",
        "len(fashion.subCategory.value_counts())"
      ],
      "execution_count": 19,
      "outputs": [
        {
          "output_type": "execute_result",
          "data": {
            "text/plain": [
              "9"
            ]
          },
          "metadata": {
            "tags": []
          },
          "execution_count": 19
        }
      ]
    },
    {
      "cell_type": "code",
      "metadata": {
        "colab": {
          "base_uri": "https://localhost:8080/",
          "height": 297
        },
        "id": "rQ1fP6X2iC8w",
        "outputId": "2d681c60-a6d8-4d82-ea2d-454a1855cca0"
      },
      "source": [
        "fashion.describe()"
      ],
      "execution_count": 20,
      "outputs": [
        {
          "output_type": "execute_result",
          "data": {
            "text/html": [
              "<div>\n",
              "<style scoped>\n",
              "    .dataframe tbody tr th:only-of-type {\n",
              "        vertical-align: middle;\n",
              "    }\n",
              "\n",
              "    .dataframe tbody tr th {\n",
              "        vertical-align: top;\n",
              "    }\n",
              "\n",
              "    .dataframe thead th {\n",
              "        text-align: right;\n",
              "    }\n",
              "</style>\n",
              "<table border=\"1\" class=\"dataframe\">\n",
              "  <thead>\n",
              "    <tr style=\"text-align: right;\">\n",
              "      <th></th>\n",
              "      <th>id</th>\n",
              "      <th>year</th>\n",
              "    </tr>\n",
              "  </thead>\n",
              "  <tbody>\n",
              "    <tr>\n",
              "      <th>count</th>\n",
              "      <td>36007.000000</td>\n",
              "      <td>36006.000000</td>\n",
              "    </tr>\n",
              "    <tr>\n",
              "      <th>mean</th>\n",
              "      <td>27941.314133</td>\n",
              "      <td>2012.664306</td>\n",
              "    </tr>\n",
              "    <tr>\n",
              "      <th>std</th>\n",
              "      <td>16565.955014</td>\n",
              "      <td>2.043775</td>\n",
              "    </tr>\n",
              "    <tr>\n",
              "      <th>min</th>\n",
              "      <td>1163.000000</td>\n",
              "      <td>2007.000000</td>\n",
              "    </tr>\n",
              "    <tr>\n",
              "      <th>25%</th>\n",
              "      <td>13305.500000</td>\n",
              "      <td>2011.000000</td>\n",
              "    </tr>\n",
              "    <tr>\n",
              "      <th>50%</th>\n",
              "      <td>26795.000000</td>\n",
              "      <td>2012.000000</td>\n",
              "    </tr>\n",
              "    <tr>\n",
              "      <th>75%</th>\n",
              "      <td>42171.500000</td>\n",
              "      <td>2015.000000</td>\n",
              "    </tr>\n",
              "    <tr>\n",
              "      <th>max</th>\n",
              "      <td>60000.000000</td>\n",
              "      <td>2018.000000</td>\n",
              "    </tr>\n",
              "  </tbody>\n",
              "</table>\n",
              "</div>"
            ],
            "text/plain": [
              "                 id          year\n",
              "count  36007.000000  36006.000000\n",
              "mean   27941.314133   2012.664306\n",
              "std    16565.955014      2.043775\n",
              "min     1163.000000   2007.000000\n",
              "25%    13305.500000   2011.000000\n",
              "50%    26795.000000   2012.000000\n",
              "75%    42171.500000   2015.000000\n",
              "max    60000.000000   2018.000000"
            ]
          },
          "metadata": {
            "tags": []
          },
          "execution_count": 20
        }
      ]
    },
    {
      "cell_type": "markdown",
      "metadata": {
        "id": "L5hXSHb3SiwR"
      },
      "source": [
        "Now there are total of 36007 rows in the dataframe"
      ]
    },
    {
      "cell_type": "markdown",
      "metadata": {
        "id": "9Y81ouv6wfMY"
      },
      "source": [
        "#### Drop rows from TopWear"
      ]
    },
    {
      "cell_type": "code",
      "metadata": {
        "colab": {
          "base_uri": "https://localhost:8080/"
        },
        "id": "mzSPR1x-SqqN",
        "outputId": "dfced683-4b16-4fcc-9863-0081ed3359ab"
      },
      "source": [
        "# Recall  'Topwear' has way too many rows than the other sub categories.\n",
        "fashion['subCategory'].value_counts()"
      ],
      "execution_count": 21,
      "outputs": [
        {
          "output_type": "execute_result",
          "data": {
            "text/plain": [
              "Topwear       15402\n",
              "Shoes          7343\n",
              "Bags           3055\n",
              "Bottomwear     2694\n",
              "Watches        2542\n",
              "Innerwear      1808\n",
              "Jewellery      1079\n",
              "Eyewear        1073\n",
              "Fragrance      1011\n",
              "Name: subCategory, dtype: int64"
            ]
          },
          "metadata": {
            "tags": []
          },
          "execution_count": 21
        }
      ]
    },
    {
      "cell_type": "code",
      "metadata": {
        "id": "xOaoidGSvkJg"
      },
      "source": [
        "drop_index = (fashion[fashion['subCategory']=='Topwear'][5000:]).index"
      ],
      "execution_count": 22,
      "outputs": []
    },
    {
      "cell_type": "code",
      "metadata": {
        "colab": {
          "base_uri": "https://localhost:8080/"
        },
        "id": "MX4gA46HwEFC",
        "outputId": "3ec58256-20b3-4072-a189-784ac3851fb6"
      },
      "source": [
        "drop_index[0]"
      ],
      "execution_count": 23,
      "outputs": [
        {
          "output_type": "execute_result",
          "data": {
            "text/plain": [
              "14212"
            ]
          },
          "metadata": {
            "tags": []
          },
          "execution_count": 23
        }
      ]
    },
    {
      "cell_type": "code",
      "metadata": {
        "colab": {
          "base_uri": "https://localhost:8080/"
        },
        "id": "f0alg1kQ0S9T",
        "outputId": "15dacc69-51ed-48d6-95bc-f4a0be329904"
      },
      "source": [
        "fashion.iloc[drop_index[0]]"
      ],
      "execution_count": 24,
      "outputs": [
        {
          "output_type": "execute_result",
          "data": {
            "text/plain": [
              "id                                                          33297\n",
              "gender                                                        Men\n",
              "masterCategory                                            Apparel\n",
              "subCategory                                               Topwear\n",
              "articleType                                                Shirts\n",
              "baseColour                                                   Blue\n",
              "season                                                     Summer\n",
              "year                                                         2012\n",
              "usage                                                      Casual\n",
              "productDisplayName    Arrow Sport Men Blue Striped Slim Fit Shirt\n",
              "image_filename                                          33297.jpg\n",
              "Name: 17500, dtype: object"
            ]
          },
          "metadata": {
            "tags": []
          },
          "execution_count": 24
        }
      ]
    },
    {
      "cell_type": "code",
      "metadata": {
        "id": "6yTrWz2lwPXc"
      },
      "source": [
        "fashion = fashion.drop(index=drop_index)"
      ],
      "execution_count": 25,
      "outputs": []
    },
    {
      "cell_type": "code",
      "metadata": {
        "colab": {
          "base_uri": "https://localhost:8080/"
        },
        "id": "jvSl49RcwqNO",
        "outputId": "a7c0b811-668b-4aee-ad5b-ef8c1d6d9cfd"
      },
      "source": [
        "# Now 'TopWear' only has 5000 images\n",
        "fashion['subCategory'].value_counts()"
      ],
      "execution_count": 26,
      "outputs": [
        {
          "output_type": "execute_result",
          "data": {
            "text/plain": [
              "Shoes         7343\n",
              "Topwear       5000\n",
              "Bags          3055\n",
              "Bottomwear    2694\n",
              "Watches       2542\n",
              "Innerwear     1808\n",
              "Jewellery     1079\n",
              "Eyewear       1073\n",
              "Fragrance     1011\n",
              "Name: subCategory, dtype: int64"
            ]
          },
          "metadata": {
            "tags": []
          },
          "execution_count": 26
        }
      ]
    },
    {
      "cell_type": "markdown",
      "metadata": {
        "id": "YsZAkbyA2O1H"
      },
      "source": [
        "### Create train and test dataframes\n",
        "Now we are creating 2 dataframes, 1 for training which will be further split into train and validation by Keras ImageDataGenerator later on, and another dataframe for testing after model training is done."
      ]
    },
    {
      "cell_type": "code",
      "metadata": {
        "id": "3hBCp8Ngrbhi"
      },
      "source": [
        "# Keep 90% in train dataset\n",
        "fashion_train = fashion.sample(frac=0.9, random_state=1)"
      ],
      "execution_count": 27,
      "outputs": []
    },
    {
      "cell_type": "code",
      "metadata": {
        "colab": {
          "base_uri": "https://localhost:8080/",
          "height": 297
        },
        "id": "EFlEmyJurlPs",
        "outputId": "4451b6a0-4539-48f2-e731-2bea26f6ea83"
      },
      "source": [
        "fashion_train.describe()"
      ],
      "execution_count": 28,
      "outputs": [
        {
          "output_type": "execute_result",
          "data": {
            "text/html": [
              "<div>\n",
              "<style scoped>\n",
              "    .dataframe tbody tr th:only-of-type {\n",
              "        vertical-align: middle;\n",
              "    }\n",
              "\n",
              "    .dataframe tbody tr th {\n",
              "        vertical-align: top;\n",
              "    }\n",
              "\n",
              "    .dataframe thead th {\n",
              "        text-align: right;\n",
              "    }\n",
              "</style>\n",
              "<table border=\"1\" class=\"dataframe\">\n",
              "  <thead>\n",
              "    <tr style=\"text-align: right;\">\n",
              "      <th></th>\n",
              "      <th>id</th>\n",
              "      <th>year</th>\n",
              "    </tr>\n",
              "  </thead>\n",
              "  <tbody>\n",
              "    <tr>\n",
              "      <th>count</th>\n",
              "      <td>23044.000000</td>\n",
              "      <td>23044.000000</td>\n",
              "    </tr>\n",
              "    <tr>\n",
              "      <th>mean</th>\n",
              "      <td>29942.915857</td>\n",
              "      <td>2013.148716</td>\n",
              "    </tr>\n",
              "    <tr>\n",
              "      <th>std</th>\n",
              "      <td>16623.346986</td>\n",
              "      <td>2.188640</td>\n",
              "    </tr>\n",
              "    <tr>\n",
              "      <th>min</th>\n",
              "      <td>1163.000000</td>\n",
              "      <td>2007.000000</td>\n",
              "    </tr>\n",
              "    <tr>\n",
              "      <th>25%</th>\n",
              "      <td>15479.500000</td>\n",
              "      <td>2011.000000</td>\n",
              "    </tr>\n",
              "    <tr>\n",
              "      <th>50%</th>\n",
              "      <td>29239.000000</td>\n",
              "      <td>2012.000000</td>\n",
              "    </tr>\n",
              "    <tr>\n",
              "      <th>75%</th>\n",
              "      <td>44829.750000</td>\n",
              "      <td>2016.000000</td>\n",
              "    </tr>\n",
              "    <tr>\n",
              "      <th>max</th>\n",
              "      <td>60000.000000</td>\n",
              "      <td>2018.000000</td>\n",
              "    </tr>\n",
              "  </tbody>\n",
              "</table>\n",
              "</div>"
            ],
            "text/plain": [
              "                 id          year\n",
              "count  23044.000000  23044.000000\n",
              "mean   29942.915857   2013.148716\n",
              "std    16623.346986      2.188640\n",
              "min     1163.000000   2007.000000\n",
              "25%    15479.500000   2011.000000\n",
              "50%    29239.000000   2012.000000\n",
              "75%    44829.750000   2016.000000\n",
              "max    60000.000000   2018.000000"
            ]
          },
          "metadata": {
            "tags": []
          },
          "execution_count": 28
        }
      ]
    },
    {
      "cell_type": "code",
      "metadata": {
        "id": "dB2SMYoKrocK"
      },
      "source": [
        "# And the rest of them for test dataset\n",
        "fashion_test = fashion.drop(fashion_train.index)"
      ],
      "execution_count": 29,
      "outputs": []
    },
    {
      "cell_type": "code",
      "metadata": {
        "colab": {
          "base_uri": "https://localhost:8080/",
          "height": 297
        },
        "id": "DX1DWrdirvAf",
        "outputId": "ca5d45e1-699a-4aae-ccdb-dec425aa75ce"
      },
      "source": [
        "fashion_test.describe()"
      ],
      "execution_count": 30,
      "outputs": [
        {
          "output_type": "execute_result",
          "data": {
            "text/html": [
              "<div>\n",
              "<style scoped>\n",
              "    .dataframe tbody tr th:only-of-type {\n",
              "        vertical-align: middle;\n",
              "    }\n",
              "\n",
              "    .dataframe tbody tr th {\n",
              "        vertical-align: top;\n",
              "    }\n",
              "\n",
              "    .dataframe thead th {\n",
              "        text-align: right;\n",
              "    }\n",
              "</style>\n",
              "<table border=\"1\" class=\"dataframe\">\n",
              "  <thead>\n",
              "    <tr style=\"text-align: right;\">\n",
              "      <th></th>\n",
              "      <th>id</th>\n",
              "      <th>year</th>\n",
              "    </tr>\n",
              "  </thead>\n",
              "  <tbody>\n",
              "    <tr>\n",
              "      <th>count</th>\n",
              "      <td>2561.000000</td>\n",
              "      <td>2561.000000</td>\n",
              "    </tr>\n",
              "    <tr>\n",
              "      <th>mean</th>\n",
              "      <td>29991.598985</td>\n",
              "      <td>2013.224912</td>\n",
              "    </tr>\n",
              "    <tr>\n",
              "      <th>std</th>\n",
              "      <td>16233.721723</td>\n",
              "      <td>2.218570</td>\n",
              "    </tr>\n",
              "    <tr>\n",
              "      <th>min</th>\n",
              "      <td>1544.000000</td>\n",
              "      <td>2009.000000</td>\n",
              "    </tr>\n",
              "    <tr>\n",
              "      <th>25%</th>\n",
              "      <td>16284.000000</td>\n",
              "      <td>2011.000000</td>\n",
              "    </tr>\n",
              "    <tr>\n",
              "      <th>50%</th>\n",
              "      <td>28817.000000</td>\n",
              "      <td>2012.000000</td>\n",
              "    </tr>\n",
              "    <tr>\n",
              "      <th>75%</th>\n",
              "      <td>44234.000000</td>\n",
              "      <td>2016.000000</td>\n",
              "    </tr>\n",
              "    <tr>\n",
              "      <th>max</th>\n",
              "      <td>59945.000000</td>\n",
              "      <td>2018.000000</td>\n",
              "    </tr>\n",
              "  </tbody>\n",
              "</table>\n",
              "</div>"
            ],
            "text/plain": [
              "                 id         year\n",
              "count   2561.000000  2561.000000\n",
              "mean   29991.598985  2013.224912\n",
              "std    16233.721723     2.218570\n",
              "min     1544.000000  2009.000000\n",
              "25%    16284.000000  2011.000000\n",
              "50%    28817.000000  2012.000000\n",
              "75%    44234.000000  2016.000000\n",
              "max    59945.000000  2018.000000"
            ]
          },
          "metadata": {
            "tags": []
          },
          "execution_count": 30
        }
      ]
    },
    {
      "cell_type": "markdown",
      "metadata": {
        "id": "eZkV4xukK7Lj"
      },
      "source": [
        "### Train, Validation & Test datasets"
      ]
    },
    {
      "cell_type": "code",
      "metadata": {
        "id": "3AJVvKWKpcQO"
      },
      "source": [
        "# from keras_preprocessing.image import ImageDataGenerator\n",
        "from tensorflow.keras.preprocessing.image import ImageDataGenerator\n",
        "from tensorflow.keras.applications.mobilenet_v2 import preprocess_input\n",
        "\n",
        "# Apply image augumentation\n",
        "image_generator = ImageDataGenerator(rescale=1./255,\n",
        "                                      horizontal_flip=True,\n",
        "                                      zoom_range=0.2,\n",
        "                                      shear_range=0.2,\n",
        "                                      validation_split =0.2,)"
      ],
      "execution_count": 31,
      "outputs": []
    },
    {
      "cell_type": "code",
      "metadata": {
        "colab": {
          "base_uri": "https://localhost:8080/"
        },
        "id": "-XDLIqDJuPpF",
        "outputId": "d2b9400b-306d-4c8c-83d5-57fa78d1b808"
      },
      "source": [
        "BATCH_SIZE = 64\n",
        "train_generator = image_generator.flow_from_dataframe(\n",
        "    dataframe=fashion_train,\n",
        "    directory=\"/content/datasets/images\",\n",
        "    x_col=\"image_filename\",\n",
        "    y_col=\"subCategory\",\n",
        "    target_size=(80, 60), \n",
        "    batch_size=BATCH_SIZE,\n",
        "    subset=\"training\"\n",
        ")"
      ],
      "execution_count": 32,
      "outputs": [
        {
          "output_type": "stream",
          "text": [
            "Found 18435 validated image filenames belonging to 9 classes.\n"
          ],
          "name": "stdout"
        },
        {
          "output_type": "stream",
          "text": [
            "/usr/local/lib/python3.7/dist-packages/keras_preprocessing/image/dataframe_iterator.py:282: UserWarning: Found 1 invalid image filename(s) in x_col=\"image_filename\". These filename(s) will be ignored.\n",
            "  .format(n_invalid, x_col)\n"
          ],
          "name": "stderr"
        }
      ]
    },
    {
      "cell_type": "code",
      "metadata": {
        "colab": {
          "base_uri": "https://localhost:8080/"
        },
        "id": "cUfeh3U9u20O",
        "outputId": "95d7d0d4-e74e-4d50-af7f-b6aeeb1a81e1"
      },
      "source": [
        "validation_generator = image_generator.flow_from_dataframe(\n",
        "    dataframe=fashion_train,\n",
        "    directory=\"/content/datasets/images\",\n",
        "    x_col=\"image_filename\",\n",
        "    y_col=\"subCategory\",\n",
        "    target_size=(80, 60),\n",
        "    batch_size=BATCH_SIZE,\n",
        "    subset=\"validation\"\n",
        ")"
      ],
      "execution_count": 33,
      "outputs": [
        {
          "output_type": "stream",
          "text": [
            "Found 4608 validated image filenames belonging to 9 classes.\n"
          ],
          "name": "stdout"
        },
        {
          "output_type": "stream",
          "text": [
            "/usr/local/lib/python3.7/dist-packages/keras_preprocessing/image/dataframe_iterator.py:282: UserWarning: Found 1 invalid image filename(s) in x_col=\"image_filename\". These filename(s) will be ignored.\n",
            "  .format(n_invalid, x_col)\n"
          ],
          "name": "stderr"
        }
      ]
    },
    {
      "cell_type": "code",
      "metadata": {
        "id": "oDuRXjAahvXt"
      },
      "source": [
        "image_generator_test = ImageDataGenerator(rescale=1./255)"
      ],
      "execution_count": 34,
      "outputs": []
    },
    {
      "cell_type": "code",
      "metadata": {
        "colab": {
          "base_uri": "https://localhost:8080/"
        },
        "id": "TuT70xqxsAMW",
        "outputId": "75bf10e7-c301-4f99-863a-666abd56868a"
      },
      "source": [
        "test_generator = image_generator_test.flow_from_dataframe(\n",
        "    dataframe=fashion_test,\n",
        "    directory=\"/content/datasets/images\",\n",
        "    x_col=\"image_filename\",\n",
        "    y_col=\"subCategory\",\n",
        "    target_size=(80, 60),\n",
        "    batch_size=BATCH_SIZE,\n",
        ")"
      ],
      "execution_count": 35,
      "outputs": [
        {
          "output_type": "stream",
          "text": [
            "Found 2560 validated image filenames belonging to 9 classes.\n"
          ],
          "name": "stdout"
        },
        {
          "output_type": "stream",
          "text": [
            "/usr/local/lib/python3.7/dist-packages/keras_preprocessing/image/dataframe_iterator.py:282: UserWarning: Found 1 invalid image filename(s) in x_col=\"image_filename\". These filename(s) will be ignored.\n",
            "  .format(n_invalid, x_col)\n"
          ],
          "name": "stderr"
        }
      ]
    },
    {
      "cell_type": "code",
      "metadata": {
        "colab": {
          "base_uri": "https://localhost:8080/"
        },
        "id": "oAERSAJ2kf10",
        "outputId": "0d2c2664-bb83-4145-8f6a-1764ab45cb9f"
      },
      "source": [
        "train_generator.class_indices"
      ],
      "execution_count": 36,
      "outputs": [
        {
          "output_type": "execute_result",
          "data": {
            "text/plain": [
              "{'Bags': 0,\n",
              " 'Bottomwear': 1,\n",
              " 'Eyewear': 2,\n",
              " 'Fragrance': 3,\n",
              " 'Innerwear': 4,\n",
              " 'Jewellery': 5,\n",
              " 'Shoes': 6,\n",
              " 'Topwear': 7,\n",
              " 'Watches': 8}"
            ]
          },
          "metadata": {
            "tags": []
          },
          "execution_count": 36
        }
      ]
    },
    {
      "cell_type": "code",
      "metadata": {
        "colab": {
          "base_uri": "https://localhost:8080/"
        },
        "id": "B7mcD956TTgZ",
        "outputId": "44434ab2-8c9c-4ed2-9499-8f65d279fa99"
      },
      "source": [
        "test_generator.class_indices"
      ],
      "execution_count": 37,
      "outputs": [
        {
          "output_type": "execute_result",
          "data": {
            "text/plain": [
              "{'Bags': 0,\n",
              " 'Bottomwear': 1,\n",
              " 'Eyewear': 2,\n",
              " 'Fragrance': 3,\n",
              " 'Innerwear': 4,\n",
              " 'Jewellery': 5,\n",
              " 'Shoes': 6,\n",
              " 'Topwear': 7,\n",
              " 'Watches': 8}"
            ]
          },
          "metadata": {
            "tags": []
          },
          "execution_count": 37
        }
      ]
    },
    {
      "cell_type": "code",
      "metadata": {
        "colab": {
          "base_uri": "https://localhost:8080/"
        },
        "id": "923N99sQkwsT",
        "outputId": "12255ed1-ff45-450b-98dc-2349fd63becf"
      },
      "source": [
        "validation_generator.class_indices"
      ],
      "execution_count": 38,
      "outputs": [
        {
          "output_type": "execute_result",
          "data": {
            "text/plain": [
              "{'Bags': 0,\n",
              " 'Bottomwear': 1,\n",
              " 'Eyewear': 2,\n",
              " 'Fragrance': 3,\n",
              " 'Innerwear': 4,\n",
              " 'Jewellery': 5,\n",
              " 'Shoes': 6,\n",
              " 'Topwear': 7,\n",
              " 'Watches': 8}"
            ]
          },
          "metadata": {
            "tags": []
          },
          "execution_count": 38
        }
      ]
    },
    {
      "cell_type": "markdown",
      "metadata": {
        "id": "zPTAc2FYr00R"
      },
      "source": [
        "## Model"
      ]
    },
    {
      "cell_type": "markdown",
      "metadata": {
        "id": "mEu5gePTLunl"
      },
      "source": [
        "### Base Model"
      ]
    },
    {
      "cell_type": "code",
      "metadata": {
        "colab": {
          "base_uri": "https://localhost:8080/"
        },
        "id": "JZBbRyVyqHK6",
        "outputId": "adb11092-2108-4140-fbf6-b2c2e815ef93"
      },
      "source": [
        "IMAGE_WIDTH, IMAGE_HEIGHT  = 60, 80\n",
        "base_model = tf.keras.applications.MobileNetV2(input_shape=(IMAGE_HEIGHT, IMAGE_WIDTH, 3),\n",
        "                                               include_top=False,\n",
        "                                               weights='imagenet')"
      ],
      "execution_count": 39,
      "outputs": [
        {
          "output_type": "stream",
          "text": [
            "WARNING:tensorflow:`input_shape` is undefined or non-square, or `rows` is not in [96, 128, 160, 192, 224]. Weights for input shape (224, 224) will be loaded as the default.\n",
            "Downloading data from https://storage.googleapis.com/tensorflow/keras-applications/mobilenet_v2/mobilenet_v2_weights_tf_dim_ordering_tf_kernels_1.0_224_no_top.h5\n",
            "9412608/9406464 [==============================] - 0s 0us/step\n"
          ],
          "name": "stdout"
        }
      ]
    },
    {
      "cell_type": "code",
      "metadata": {
        "colab": {
          "base_uri": "https://localhost:8080/"
        },
        "id": "1W7uHKbiuAL2",
        "outputId": "6008435a-1992-4d20-c73a-3e57e53166b8"
      },
      "source": [
        "base_model.summary()"
      ],
      "execution_count": 40,
      "outputs": [
        {
          "output_type": "stream",
          "text": [
            "Model: \"mobilenetv2_1.00_224\"\n",
            "__________________________________________________________________________________________________\n",
            "Layer (type)                    Output Shape         Param #     Connected to                     \n",
            "==================================================================================================\n",
            "input_1 (InputLayer)            [(None, 80, 60, 3)]  0                                            \n",
            "__________________________________________________________________________________________________\n",
            "Conv1 (Conv2D)                  (None, 40, 30, 32)   864         input_1[0][0]                    \n",
            "__________________________________________________________________________________________________\n",
            "bn_Conv1 (BatchNormalization)   (None, 40, 30, 32)   128         Conv1[0][0]                      \n",
            "__________________________________________________________________________________________________\n",
            "Conv1_relu (ReLU)               (None, 40, 30, 32)   0           bn_Conv1[0][0]                   \n",
            "__________________________________________________________________________________________________\n",
            "expanded_conv_depthwise (Depthw (None, 40, 30, 32)   288         Conv1_relu[0][0]                 \n",
            "__________________________________________________________________________________________________\n",
            "expanded_conv_depthwise_BN (Bat (None, 40, 30, 32)   128         expanded_conv_depthwise[0][0]    \n",
            "__________________________________________________________________________________________________\n",
            "expanded_conv_depthwise_relu (R (None, 40, 30, 32)   0           expanded_conv_depthwise_BN[0][0] \n",
            "__________________________________________________________________________________________________\n",
            "expanded_conv_project (Conv2D)  (None, 40, 30, 16)   512         expanded_conv_depthwise_relu[0][0\n",
            "__________________________________________________________________________________________________\n",
            "expanded_conv_project_BN (Batch (None, 40, 30, 16)   64          expanded_conv_project[0][0]      \n",
            "__________________________________________________________________________________________________\n",
            "block_1_expand (Conv2D)         (None, 40, 30, 96)   1536        expanded_conv_project_BN[0][0]   \n",
            "__________________________________________________________________________________________________\n",
            "block_1_expand_BN (BatchNormali (None, 40, 30, 96)   384         block_1_expand[0][0]             \n",
            "__________________________________________________________________________________________________\n",
            "block_1_expand_relu (ReLU)      (None, 40, 30, 96)   0           block_1_expand_BN[0][0]          \n",
            "__________________________________________________________________________________________________\n",
            "block_1_pad (ZeroPadding2D)     (None, 41, 31, 96)   0           block_1_expand_relu[0][0]        \n",
            "__________________________________________________________________________________________________\n",
            "block_1_depthwise (DepthwiseCon (None, 20, 15, 96)   864         block_1_pad[0][0]                \n",
            "__________________________________________________________________________________________________\n",
            "block_1_depthwise_BN (BatchNorm (None, 20, 15, 96)   384         block_1_depthwise[0][0]          \n",
            "__________________________________________________________________________________________________\n",
            "block_1_depthwise_relu (ReLU)   (None, 20, 15, 96)   0           block_1_depthwise_BN[0][0]       \n",
            "__________________________________________________________________________________________________\n",
            "block_1_project (Conv2D)        (None, 20, 15, 24)   2304        block_1_depthwise_relu[0][0]     \n",
            "__________________________________________________________________________________________________\n",
            "block_1_project_BN (BatchNormal (None, 20, 15, 24)   96          block_1_project[0][0]            \n",
            "__________________________________________________________________________________________________\n",
            "block_2_expand (Conv2D)         (None, 20, 15, 144)  3456        block_1_project_BN[0][0]         \n",
            "__________________________________________________________________________________________________\n",
            "block_2_expand_BN (BatchNormali (None, 20, 15, 144)  576         block_2_expand[0][0]             \n",
            "__________________________________________________________________________________________________\n",
            "block_2_expand_relu (ReLU)      (None, 20, 15, 144)  0           block_2_expand_BN[0][0]          \n",
            "__________________________________________________________________________________________________\n",
            "block_2_depthwise (DepthwiseCon (None, 20, 15, 144)  1296        block_2_expand_relu[0][0]        \n",
            "__________________________________________________________________________________________________\n",
            "block_2_depthwise_BN (BatchNorm (None, 20, 15, 144)  576         block_2_depthwise[0][0]          \n",
            "__________________________________________________________________________________________________\n",
            "block_2_depthwise_relu (ReLU)   (None, 20, 15, 144)  0           block_2_depthwise_BN[0][0]       \n",
            "__________________________________________________________________________________________________\n",
            "block_2_project (Conv2D)        (None, 20, 15, 24)   3456        block_2_depthwise_relu[0][0]     \n",
            "__________________________________________________________________________________________________\n",
            "block_2_project_BN (BatchNormal (None, 20, 15, 24)   96          block_2_project[0][0]            \n",
            "__________________________________________________________________________________________________\n",
            "block_2_add (Add)               (None, 20, 15, 24)   0           block_1_project_BN[0][0]         \n",
            "                                                                 block_2_project_BN[0][0]         \n",
            "__________________________________________________________________________________________________\n",
            "block_3_expand (Conv2D)         (None, 20, 15, 144)  3456        block_2_add[0][0]                \n",
            "__________________________________________________________________________________________________\n",
            "block_3_expand_BN (BatchNormali (None, 20, 15, 144)  576         block_3_expand[0][0]             \n",
            "__________________________________________________________________________________________________\n",
            "block_3_expand_relu (ReLU)      (None, 20, 15, 144)  0           block_3_expand_BN[0][0]          \n",
            "__________________________________________________________________________________________________\n",
            "block_3_pad (ZeroPadding2D)     (None, 21, 17, 144)  0           block_3_expand_relu[0][0]        \n",
            "__________________________________________________________________________________________________\n",
            "block_3_depthwise (DepthwiseCon (None, 10, 8, 144)   1296        block_3_pad[0][0]                \n",
            "__________________________________________________________________________________________________\n",
            "block_3_depthwise_BN (BatchNorm (None, 10, 8, 144)   576         block_3_depthwise[0][0]          \n",
            "__________________________________________________________________________________________________\n",
            "block_3_depthwise_relu (ReLU)   (None, 10, 8, 144)   0           block_3_depthwise_BN[0][0]       \n",
            "__________________________________________________________________________________________________\n",
            "block_3_project (Conv2D)        (None, 10, 8, 32)    4608        block_3_depthwise_relu[0][0]     \n",
            "__________________________________________________________________________________________________\n",
            "block_3_project_BN (BatchNormal (None, 10, 8, 32)    128         block_3_project[0][0]            \n",
            "__________________________________________________________________________________________________\n",
            "block_4_expand (Conv2D)         (None, 10, 8, 192)   6144        block_3_project_BN[0][0]         \n",
            "__________________________________________________________________________________________________\n",
            "block_4_expand_BN (BatchNormali (None, 10, 8, 192)   768         block_4_expand[0][0]             \n",
            "__________________________________________________________________________________________________\n",
            "block_4_expand_relu (ReLU)      (None, 10, 8, 192)   0           block_4_expand_BN[0][0]          \n",
            "__________________________________________________________________________________________________\n",
            "block_4_depthwise (DepthwiseCon (None, 10, 8, 192)   1728        block_4_expand_relu[0][0]        \n",
            "__________________________________________________________________________________________________\n",
            "block_4_depthwise_BN (BatchNorm (None, 10, 8, 192)   768         block_4_depthwise[0][0]          \n",
            "__________________________________________________________________________________________________\n",
            "block_4_depthwise_relu (ReLU)   (None, 10, 8, 192)   0           block_4_depthwise_BN[0][0]       \n",
            "__________________________________________________________________________________________________\n",
            "block_4_project (Conv2D)        (None, 10, 8, 32)    6144        block_4_depthwise_relu[0][0]     \n",
            "__________________________________________________________________________________________________\n",
            "block_4_project_BN (BatchNormal (None, 10, 8, 32)    128         block_4_project[0][0]            \n",
            "__________________________________________________________________________________________________\n",
            "block_4_add (Add)               (None, 10, 8, 32)    0           block_3_project_BN[0][0]         \n",
            "                                                                 block_4_project_BN[0][0]         \n",
            "__________________________________________________________________________________________________\n",
            "block_5_expand (Conv2D)         (None, 10, 8, 192)   6144        block_4_add[0][0]                \n",
            "__________________________________________________________________________________________________\n",
            "block_5_expand_BN (BatchNormali (None, 10, 8, 192)   768         block_5_expand[0][0]             \n",
            "__________________________________________________________________________________________________\n",
            "block_5_expand_relu (ReLU)      (None, 10, 8, 192)   0           block_5_expand_BN[0][0]          \n",
            "__________________________________________________________________________________________________\n",
            "block_5_depthwise (DepthwiseCon (None, 10, 8, 192)   1728        block_5_expand_relu[0][0]        \n",
            "__________________________________________________________________________________________________\n",
            "block_5_depthwise_BN (BatchNorm (None, 10, 8, 192)   768         block_5_depthwise[0][0]          \n",
            "__________________________________________________________________________________________________\n",
            "block_5_depthwise_relu (ReLU)   (None, 10, 8, 192)   0           block_5_depthwise_BN[0][0]       \n",
            "__________________________________________________________________________________________________\n",
            "block_5_project (Conv2D)        (None, 10, 8, 32)    6144        block_5_depthwise_relu[0][0]     \n",
            "__________________________________________________________________________________________________\n",
            "block_5_project_BN (BatchNormal (None, 10, 8, 32)    128         block_5_project[0][0]            \n",
            "__________________________________________________________________________________________________\n",
            "block_5_add (Add)               (None, 10, 8, 32)    0           block_4_add[0][0]                \n",
            "                                                                 block_5_project_BN[0][0]         \n",
            "__________________________________________________________________________________________________\n",
            "block_6_expand (Conv2D)         (None, 10, 8, 192)   6144        block_5_add[0][0]                \n",
            "__________________________________________________________________________________________________\n",
            "block_6_expand_BN (BatchNormali (None, 10, 8, 192)   768         block_6_expand[0][0]             \n",
            "__________________________________________________________________________________________________\n",
            "block_6_expand_relu (ReLU)      (None, 10, 8, 192)   0           block_6_expand_BN[0][0]          \n",
            "__________________________________________________________________________________________________\n",
            "block_6_pad (ZeroPadding2D)     (None, 11, 9, 192)   0           block_6_expand_relu[0][0]        \n",
            "__________________________________________________________________________________________________\n",
            "block_6_depthwise (DepthwiseCon (None, 5, 4, 192)    1728        block_6_pad[0][0]                \n",
            "__________________________________________________________________________________________________\n",
            "block_6_depthwise_BN (BatchNorm (None, 5, 4, 192)    768         block_6_depthwise[0][0]          \n",
            "__________________________________________________________________________________________________\n",
            "block_6_depthwise_relu (ReLU)   (None, 5, 4, 192)    0           block_6_depthwise_BN[0][0]       \n",
            "__________________________________________________________________________________________________\n",
            "block_6_project (Conv2D)        (None, 5, 4, 64)     12288       block_6_depthwise_relu[0][0]     \n",
            "__________________________________________________________________________________________________\n",
            "block_6_project_BN (BatchNormal (None, 5, 4, 64)     256         block_6_project[0][0]            \n",
            "__________________________________________________________________________________________________\n",
            "block_7_expand (Conv2D)         (None, 5, 4, 384)    24576       block_6_project_BN[0][0]         \n",
            "__________________________________________________________________________________________________\n",
            "block_7_expand_BN (BatchNormali (None, 5, 4, 384)    1536        block_7_expand[0][0]             \n",
            "__________________________________________________________________________________________________\n",
            "block_7_expand_relu (ReLU)      (None, 5, 4, 384)    0           block_7_expand_BN[0][0]          \n",
            "__________________________________________________________________________________________________\n",
            "block_7_depthwise (DepthwiseCon (None, 5, 4, 384)    3456        block_7_expand_relu[0][0]        \n",
            "__________________________________________________________________________________________________\n",
            "block_7_depthwise_BN (BatchNorm (None, 5, 4, 384)    1536        block_7_depthwise[0][0]          \n",
            "__________________________________________________________________________________________________\n",
            "block_7_depthwise_relu (ReLU)   (None, 5, 4, 384)    0           block_7_depthwise_BN[0][0]       \n",
            "__________________________________________________________________________________________________\n",
            "block_7_project (Conv2D)        (None, 5, 4, 64)     24576       block_7_depthwise_relu[0][0]     \n",
            "__________________________________________________________________________________________________\n",
            "block_7_project_BN (BatchNormal (None, 5, 4, 64)     256         block_7_project[0][0]            \n",
            "__________________________________________________________________________________________________\n",
            "block_7_add (Add)               (None, 5, 4, 64)     0           block_6_project_BN[0][0]         \n",
            "                                                                 block_7_project_BN[0][0]         \n",
            "__________________________________________________________________________________________________\n",
            "block_8_expand (Conv2D)         (None, 5, 4, 384)    24576       block_7_add[0][0]                \n",
            "__________________________________________________________________________________________________\n",
            "block_8_expand_BN (BatchNormali (None, 5, 4, 384)    1536        block_8_expand[0][0]             \n",
            "__________________________________________________________________________________________________\n",
            "block_8_expand_relu (ReLU)      (None, 5, 4, 384)    0           block_8_expand_BN[0][0]          \n",
            "__________________________________________________________________________________________________\n",
            "block_8_depthwise (DepthwiseCon (None, 5, 4, 384)    3456        block_8_expand_relu[0][0]        \n",
            "__________________________________________________________________________________________________\n",
            "block_8_depthwise_BN (BatchNorm (None, 5, 4, 384)    1536        block_8_depthwise[0][0]          \n",
            "__________________________________________________________________________________________________\n",
            "block_8_depthwise_relu (ReLU)   (None, 5, 4, 384)    0           block_8_depthwise_BN[0][0]       \n",
            "__________________________________________________________________________________________________\n",
            "block_8_project (Conv2D)        (None, 5, 4, 64)     24576       block_8_depthwise_relu[0][0]     \n",
            "__________________________________________________________________________________________________\n",
            "block_8_project_BN (BatchNormal (None, 5, 4, 64)     256         block_8_project[0][0]            \n",
            "__________________________________________________________________________________________________\n",
            "block_8_add (Add)               (None, 5, 4, 64)     0           block_7_add[0][0]                \n",
            "                                                                 block_8_project_BN[0][0]         \n",
            "__________________________________________________________________________________________________\n",
            "block_9_expand (Conv2D)         (None, 5, 4, 384)    24576       block_8_add[0][0]                \n",
            "__________________________________________________________________________________________________\n",
            "block_9_expand_BN (BatchNormali (None, 5, 4, 384)    1536        block_9_expand[0][0]             \n",
            "__________________________________________________________________________________________________\n",
            "block_9_expand_relu (ReLU)      (None, 5, 4, 384)    0           block_9_expand_BN[0][0]          \n",
            "__________________________________________________________________________________________________\n",
            "block_9_depthwise (DepthwiseCon (None, 5, 4, 384)    3456        block_9_expand_relu[0][0]        \n",
            "__________________________________________________________________________________________________\n",
            "block_9_depthwise_BN (BatchNorm (None, 5, 4, 384)    1536        block_9_depthwise[0][0]          \n",
            "__________________________________________________________________________________________________\n",
            "block_9_depthwise_relu (ReLU)   (None, 5, 4, 384)    0           block_9_depthwise_BN[0][0]       \n",
            "__________________________________________________________________________________________________\n",
            "block_9_project (Conv2D)        (None, 5, 4, 64)     24576       block_9_depthwise_relu[0][0]     \n",
            "__________________________________________________________________________________________________\n",
            "block_9_project_BN (BatchNormal (None, 5, 4, 64)     256         block_9_project[0][0]            \n",
            "__________________________________________________________________________________________________\n",
            "block_9_add (Add)               (None, 5, 4, 64)     0           block_8_add[0][0]                \n",
            "                                                                 block_9_project_BN[0][0]         \n",
            "__________________________________________________________________________________________________\n",
            "block_10_expand (Conv2D)        (None, 5, 4, 384)    24576       block_9_add[0][0]                \n",
            "__________________________________________________________________________________________________\n",
            "block_10_expand_BN (BatchNormal (None, 5, 4, 384)    1536        block_10_expand[0][0]            \n",
            "__________________________________________________________________________________________________\n",
            "block_10_expand_relu (ReLU)     (None, 5, 4, 384)    0           block_10_expand_BN[0][0]         \n",
            "__________________________________________________________________________________________________\n",
            "block_10_depthwise (DepthwiseCo (None, 5, 4, 384)    3456        block_10_expand_relu[0][0]       \n",
            "__________________________________________________________________________________________________\n",
            "block_10_depthwise_BN (BatchNor (None, 5, 4, 384)    1536        block_10_depthwise[0][0]         \n",
            "__________________________________________________________________________________________________\n",
            "block_10_depthwise_relu (ReLU)  (None, 5, 4, 384)    0           block_10_depthwise_BN[0][0]      \n",
            "__________________________________________________________________________________________________\n",
            "block_10_project (Conv2D)       (None, 5, 4, 96)     36864       block_10_depthwise_relu[0][0]    \n",
            "__________________________________________________________________________________________________\n",
            "block_10_project_BN (BatchNorma (None, 5, 4, 96)     384         block_10_project[0][0]           \n",
            "__________________________________________________________________________________________________\n",
            "block_11_expand (Conv2D)        (None, 5, 4, 576)    55296       block_10_project_BN[0][0]        \n",
            "__________________________________________________________________________________________________\n",
            "block_11_expand_BN (BatchNormal (None, 5, 4, 576)    2304        block_11_expand[0][0]            \n",
            "__________________________________________________________________________________________________\n",
            "block_11_expand_relu (ReLU)     (None, 5, 4, 576)    0           block_11_expand_BN[0][0]         \n",
            "__________________________________________________________________________________________________\n",
            "block_11_depthwise (DepthwiseCo (None, 5, 4, 576)    5184        block_11_expand_relu[0][0]       \n",
            "__________________________________________________________________________________________________\n",
            "block_11_depthwise_BN (BatchNor (None, 5, 4, 576)    2304        block_11_depthwise[0][0]         \n",
            "__________________________________________________________________________________________________\n",
            "block_11_depthwise_relu (ReLU)  (None, 5, 4, 576)    0           block_11_depthwise_BN[0][0]      \n",
            "__________________________________________________________________________________________________\n",
            "block_11_project (Conv2D)       (None, 5, 4, 96)     55296       block_11_depthwise_relu[0][0]    \n",
            "__________________________________________________________________________________________________\n",
            "block_11_project_BN (BatchNorma (None, 5, 4, 96)     384         block_11_project[0][0]           \n",
            "__________________________________________________________________________________________________\n",
            "block_11_add (Add)              (None, 5, 4, 96)     0           block_10_project_BN[0][0]        \n",
            "                                                                 block_11_project_BN[0][0]        \n",
            "__________________________________________________________________________________________________\n",
            "block_12_expand (Conv2D)        (None, 5, 4, 576)    55296       block_11_add[0][0]               \n",
            "__________________________________________________________________________________________________\n",
            "block_12_expand_BN (BatchNormal (None, 5, 4, 576)    2304        block_12_expand[0][0]            \n",
            "__________________________________________________________________________________________________\n",
            "block_12_expand_relu (ReLU)     (None, 5, 4, 576)    0           block_12_expand_BN[0][0]         \n",
            "__________________________________________________________________________________________________\n",
            "block_12_depthwise (DepthwiseCo (None, 5, 4, 576)    5184        block_12_expand_relu[0][0]       \n",
            "__________________________________________________________________________________________________\n",
            "block_12_depthwise_BN (BatchNor (None, 5, 4, 576)    2304        block_12_depthwise[0][0]         \n",
            "__________________________________________________________________________________________________\n",
            "block_12_depthwise_relu (ReLU)  (None, 5, 4, 576)    0           block_12_depthwise_BN[0][0]      \n",
            "__________________________________________________________________________________________________\n",
            "block_12_project (Conv2D)       (None, 5, 4, 96)     55296       block_12_depthwise_relu[0][0]    \n",
            "__________________________________________________________________________________________________\n",
            "block_12_project_BN (BatchNorma (None, 5, 4, 96)     384         block_12_project[0][0]           \n",
            "__________________________________________________________________________________________________\n",
            "block_12_add (Add)              (None, 5, 4, 96)     0           block_11_add[0][0]               \n",
            "                                                                 block_12_project_BN[0][0]        \n",
            "__________________________________________________________________________________________________\n",
            "block_13_expand (Conv2D)        (None, 5, 4, 576)    55296       block_12_add[0][0]               \n",
            "__________________________________________________________________________________________________\n",
            "block_13_expand_BN (BatchNormal (None, 5, 4, 576)    2304        block_13_expand[0][0]            \n",
            "__________________________________________________________________________________________________\n",
            "block_13_expand_relu (ReLU)     (None, 5, 4, 576)    0           block_13_expand_BN[0][0]         \n",
            "__________________________________________________________________________________________________\n",
            "block_13_pad (ZeroPadding2D)    (None, 7, 5, 576)    0           block_13_expand_relu[0][0]       \n",
            "__________________________________________________________________________________________________\n",
            "block_13_depthwise (DepthwiseCo (None, 3, 2, 576)    5184        block_13_pad[0][0]               \n",
            "__________________________________________________________________________________________________\n",
            "block_13_depthwise_BN (BatchNor (None, 3, 2, 576)    2304        block_13_depthwise[0][0]         \n",
            "__________________________________________________________________________________________________\n",
            "block_13_depthwise_relu (ReLU)  (None, 3, 2, 576)    0           block_13_depthwise_BN[0][0]      \n",
            "__________________________________________________________________________________________________\n",
            "block_13_project (Conv2D)       (None, 3, 2, 160)    92160       block_13_depthwise_relu[0][0]    \n",
            "__________________________________________________________________________________________________\n",
            "block_13_project_BN (BatchNorma (None, 3, 2, 160)    640         block_13_project[0][0]           \n",
            "__________________________________________________________________________________________________\n",
            "block_14_expand (Conv2D)        (None, 3, 2, 960)    153600      block_13_project_BN[0][0]        \n",
            "__________________________________________________________________________________________________\n",
            "block_14_expand_BN (BatchNormal (None, 3, 2, 960)    3840        block_14_expand[0][0]            \n",
            "__________________________________________________________________________________________________\n",
            "block_14_expand_relu (ReLU)     (None, 3, 2, 960)    0           block_14_expand_BN[0][0]         \n",
            "__________________________________________________________________________________________________\n",
            "block_14_depthwise (DepthwiseCo (None, 3, 2, 960)    8640        block_14_expand_relu[0][0]       \n",
            "__________________________________________________________________________________________________\n",
            "block_14_depthwise_BN (BatchNor (None, 3, 2, 960)    3840        block_14_depthwise[0][0]         \n",
            "__________________________________________________________________________________________________\n",
            "block_14_depthwise_relu (ReLU)  (None, 3, 2, 960)    0           block_14_depthwise_BN[0][0]      \n",
            "__________________________________________________________________________________________________\n",
            "block_14_project (Conv2D)       (None, 3, 2, 160)    153600      block_14_depthwise_relu[0][0]    \n",
            "__________________________________________________________________________________________________\n",
            "block_14_project_BN (BatchNorma (None, 3, 2, 160)    640         block_14_project[0][0]           \n",
            "__________________________________________________________________________________________________\n",
            "block_14_add (Add)              (None, 3, 2, 160)    0           block_13_project_BN[0][0]        \n",
            "                                                                 block_14_project_BN[0][0]        \n",
            "__________________________________________________________________________________________________\n",
            "block_15_expand (Conv2D)        (None, 3, 2, 960)    153600      block_14_add[0][0]               \n",
            "__________________________________________________________________________________________________\n",
            "block_15_expand_BN (BatchNormal (None, 3, 2, 960)    3840        block_15_expand[0][0]            \n",
            "__________________________________________________________________________________________________\n",
            "block_15_expand_relu (ReLU)     (None, 3, 2, 960)    0           block_15_expand_BN[0][0]         \n",
            "__________________________________________________________________________________________________\n",
            "block_15_depthwise (DepthwiseCo (None, 3, 2, 960)    8640        block_15_expand_relu[0][0]       \n",
            "__________________________________________________________________________________________________\n",
            "block_15_depthwise_BN (BatchNor (None, 3, 2, 960)    3840        block_15_depthwise[0][0]         \n",
            "__________________________________________________________________________________________________\n",
            "block_15_depthwise_relu (ReLU)  (None, 3, 2, 960)    0           block_15_depthwise_BN[0][0]      \n",
            "__________________________________________________________________________________________________\n",
            "block_15_project (Conv2D)       (None, 3, 2, 160)    153600      block_15_depthwise_relu[0][0]    \n",
            "__________________________________________________________________________________________________\n",
            "block_15_project_BN (BatchNorma (None, 3, 2, 160)    640         block_15_project[0][0]           \n",
            "__________________________________________________________________________________________________\n",
            "block_15_add (Add)              (None, 3, 2, 160)    0           block_14_add[0][0]               \n",
            "                                                                 block_15_project_BN[0][0]        \n",
            "__________________________________________________________________________________________________\n",
            "block_16_expand (Conv2D)        (None, 3, 2, 960)    153600      block_15_add[0][0]               \n",
            "__________________________________________________________________________________________________\n",
            "block_16_expand_BN (BatchNormal (None, 3, 2, 960)    3840        block_16_expand[0][0]            \n",
            "__________________________________________________________________________________________________\n",
            "block_16_expand_relu (ReLU)     (None, 3, 2, 960)    0           block_16_expand_BN[0][0]         \n",
            "__________________________________________________________________________________________________\n",
            "block_16_depthwise (DepthwiseCo (None, 3, 2, 960)    8640        block_16_expand_relu[0][0]       \n",
            "__________________________________________________________________________________________________\n",
            "block_16_depthwise_BN (BatchNor (None, 3, 2, 960)    3840        block_16_depthwise[0][0]         \n",
            "__________________________________________________________________________________________________\n",
            "block_16_depthwise_relu (ReLU)  (None, 3, 2, 960)    0           block_16_depthwise_BN[0][0]      \n",
            "__________________________________________________________________________________________________\n",
            "block_16_project (Conv2D)       (None, 3, 2, 320)    307200      block_16_depthwise_relu[0][0]    \n",
            "__________________________________________________________________________________________________\n",
            "block_16_project_BN (BatchNorma (None, 3, 2, 320)    1280        block_16_project[0][0]           \n",
            "__________________________________________________________________________________________________\n",
            "Conv_1 (Conv2D)                 (None, 3, 2, 1280)   409600      block_16_project_BN[0][0]        \n",
            "__________________________________________________________________________________________________\n",
            "Conv_1_bn (BatchNormalization)  (None, 3, 2, 1280)   5120        Conv_1[0][0]                     \n",
            "__________________________________________________________________________________________________\n",
            "out_relu (ReLU)                 (None, 3, 2, 1280)   0           Conv_1_bn[0][0]                  \n",
            "==================================================================================================\n",
            "Total params: 2,257,984\n",
            "Trainable params: 2,223,872\n",
            "Non-trainable params: 34,112\n",
            "__________________________________________________________________________________________________\n"
          ],
          "name": "stdout"
        }
      ]
    },
    {
      "cell_type": "code",
      "metadata": {
        "id": "tl2q8svdrvUS"
      },
      "source": [
        "base_model.trainable = False"
      ],
      "execution_count": 41,
      "outputs": []
    },
    {
      "cell_type": "markdown",
      "metadata": {
        "id": "zYWy4VLjF5Pu"
      },
      "source": [
        "### Add classifier head"
      ]
    },
    {
      "cell_type": "code",
      "metadata": {
        "colab": {
          "base_uri": "https://localhost:8080/"
        },
        "id": "zV4JzHWbtXHe",
        "outputId": "963d4a2d-38fd-467d-8795-e1665830f84d"
      },
      "source": [
        "classifier = tf.keras.Sequential([\n",
        "                                  base_model,\n",
        "                                  tf.keras.layers.GlobalAveragePooling2D(),\n",
        "                                  tf.keras.layers.Dense(128, activation='relu'),\n",
        "                                  tf.keras.layers.Dense(9, activation='softmax')\n",
        "])\n",
        "classifier.summary()"
      ],
      "execution_count": 42,
      "outputs": [
        {
          "output_type": "stream",
          "text": [
            "Model: \"sequential\"\n",
            "_________________________________________________________________\n",
            "Layer (type)                 Output Shape              Param #   \n",
            "=================================================================\n",
            "mobilenetv2_1.00_224 (Functi (None, 3, 2, 1280)        2257984   \n",
            "_________________________________________________________________\n",
            "global_average_pooling2d (Gl (None, 1280)              0         \n",
            "_________________________________________________________________\n",
            "dense (Dense)                (None, 128)               163968    \n",
            "_________________________________________________________________\n",
            "dense_1 (Dense)              (None, 9)                 1161      \n",
            "=================================================================\n",
            "Total params: 2,423,113\n",
            "Trainable params: 165,129\n",
            "Non-trainable params: 2,257,984\n",
            "_________________________________________________________________\n"
          ],
          "name": "stdout"
        }
      ]
    },
    {
      "cell_type": "code",
      "metadata": {
        "id": "ZdY1fidytzXp"
      },
      "source": [
        "classifier.compile(optimizer='adam', \n",
        "                   loss='categorical_crossentropy', \n",
        "                   metrics=['accuracy'])"
      ],
      "execution_count": 43,
      "outputs": []
    },
    {
      "cell_type": "code",
      "metadata": {
        "colab": {
          "base_uri": "https://localhost:8080/"
        },
        "id": "9wMJp9-4Q3T8",
        "outputId": "d133e452-05ca-43e7-afad-4b396be7617d"
      },
      "source": [
        "len(train_generator)//BATCH_SIZE"
      ],
      "execution_count": 44,
      "outputs": [
        {
          "output_type": "execute_result",
          "data": {
            "text/plain": [
              "4"
            ]
          },
          "metadata": {
            "tags": []
          },
          "execution_count": 44
        }
      ]
    },
    {
      "cell_type": "markdown",
      "metadata": {
        "id": "Sie7AHjzjKu8"
      },
      "source": [
        "### Train the model"
      ]
    },
    {
      "cell_type": "code",
      "metadata": {
        "colab": {
          "base_uri": "https://localhost:8080/"
        },
        "id": "l4rhfIuDuDut",
        "outputId": "fc56ae76-e513-4ea1-d6d7-efc932a364b4"
      },
      "source": [
        "NUM_EPOCHS = 20\n",
        "\n",
        "STEPS_PER_EPOCH = len(train_generator)//BATCH_SIZE\n",
        "VALIDATION_STEPS = len(validation_generator)//BATCH_SIZE\n",
        "classifier.fit(\n",
        "    train_generator,\n",
        "    steps_per_epoch=STEPS_PER_EPOCH, \n",
        "    validation_data=validation_generator,\n",
        "    validation_steps=VALIDATION_STEPS, \n",
        "    epochs=NUM_EPOCHS\n",
        ")"
      ],
      "execution_count": 45,
      "outputs": [
        {
          "output_type": "stream",
          "text": [
            "Epoch 1/20\n",
            "4/4 [==============================] - 18s 448ms/step - loss: 2.0201 - accuracy: 0.3672 - val_loss: 1.0611 - val_accuracy: 0.6719\n",
            "Epoch 2/20\n",
            "4/4 [==============================] - 1s 177ms/step - loss: 1.0654 - accuracy: 0.6562 - val_loss: 1.0767 - val_accuracy: 0.6875\n",
            "Epoch 3/20\n",
            "4/4 [==============================] - 1s 182ms/step - loss: 0.8454 - accuracy: 0.7148 - val_loss: 0.7461 - val_accuracy: 0.7812\n",
            "Epoch 4/20\n",
            "4/4 [==============================] - 1s 174ms/step - loss: 0.6231 - accuracy: 0.8203 - val_loss: 0.6646 - val_accuracy: 0.8125\n",
            "Epoch 5/20\n",
            "4/4 [==============================] - 1s 178ms/step - loss: 0.5602 - accuracy: 0.8398 - val_loss: 0.5178 - val_accuracy: 0.8281\n",
            "Epoch 6/20\n",
            "4/4 [==============================] - 1s 174ms/step - loss: 0.4958 - accuracy: 0.8633 - val_loss: 0.4862 - val_accuracy: 0.8594\n",
            "Epoch 7/20\n",
            "4/4 [==============================] - 1s 173ms/step - loss: 0.3904 - accuracy: 0.8711 - val_loss: 0.5824 - val_accuracy: 0.8281\n",
            "Epoch 8/20\n",
            "4/4 [==============================] - 1s 179ms/step - loss: 0.3018 - accuracy: 0.9023 - val_loss: 0.3332 - val_accuracy: 0.9062\n",
            "Epoch 9/20\n",
            "4/4 [==============================] - 1s 175ms/step - loss: 0.2992 - accuracy: 0.9180 - val_loss: 0.8549 - val_accuracy: 0.7812\n",
            "Epoch 10/20\n",
            "4/4 [==============================] - 1s 175ms/step - loss: 0.4289 - accuracy: 0.8672 - val_loss: 0.3786 - val_accuracy: 0.8750\n",
            "Epoch 11/20\n",
            "4/4 [==============================] - 1s 181ms/step - loss: 0.3670 - accuracy: 0.8828 - val_loss: 0.2399 - val_accuracy: 0.9219\n",
            "Epoch 12/20\n",
            "4/4 [==============================] - 1s 179ms/step - loss: 0.2944 - accuracy: 0.8984 - val_loss: 0.5276 - val_accuracy: 0.8750\n",
            "Epoch 13/20\n",
            "4/4 [==============================] - 1s 174ms/step - loss: 0.3683 - accuracy: 0.8828 - val_loss: 0.3006 - val_accuracy: 0.9219\n",
            "Epoch 14/20\n",
            "4/4 [==============================] - 1s 174ms/step - loss: 0.3937 - accuracy: 0.9062 - val_loss: 0.3091 - val_accuracy: 0.9219\n",
            "Epoch 15/20\n",
            "4/4 [==============================] - 1s 176ms/step - loss: 0.3299 - accuracy: 0.9141 - val_loss: 0.5038 - val_accuracy: 0.8906\n",
            "Epoch 16/20\n",
            "4/4 [==============================] - 1s 173ms/step - loss: 0.2557 - accuracy: 0.9141 - val_loss: 0.2303 - val_accuracy: 0.9375\n",
            "Epoch 17/20\n",
            "4/4 [==============================] - 1s 177ms/step - loss: 0.2396 - accuracy: 0.9414 - val_loss: 0.4632 - val_accuracy: 0.9062\n",
            "Epoch 18/20\n",
            "4/4 [==============================] - 1s 156ms/step - loss: 0.2878 - accuracy: 0.9026 - val_loss: 0.2346 - val_accuracy: 0.9062\n",
            "Epoch 19/20\n",
            "4/4 [==============================] - 1s 176ms/step - loss: 0.3590 - accuracy: 0.9141 - val_loss: 0.2873 - val_accuracy: 0.9219\n",
            "Epoch 20/20\n",
            "4/4 [==============================] - 1s 184ms/step - loss: 0.2243 - accuracy: 0.9453 - val_loss: 0.3002 - val_accuracy: 0.9219\n"
          ],
          "name": "stdout"
        },
        {
          "output_type": "execute_result",
          "data": {
            "text/plain": [
              "<tensorflow.python.keras.callbacks.History at 0x7fcc900c8a10>"
            ]
          },
          "metadata": {
            "tags": []
          },
          "execution_count": 45
        }
      ]
    },
    {
      "cell_type": "markdown",
      "metadata": {
        "id": "93aksfsQ30Rh"
      },
      "source": [
        "### Learning curves"
      ]
    },
    {
      "cell_type": "code",
      "metadata": {
        "id": "1VFMtukkzy51"
      },
      "source": [
        "# Display learning curves\n",
        "def display_learning_curves(history, title):\n",
        "  acc = history.history['accuracy']\n",
        "  val_acc = history.history['val_accuracy']\n",
        "\n",
        "  loss = history.history['loss']\n",
        "  val_loss = history.history['val_loss']\n",
        "\n",
        "  epochs_range = range(NUM_EPOCHS)\n",
        "\n",
        "  plt.plot(epochs_range, acc, label='Train accuracy')\n",
        "  plt.plot(epochs_range, val_acc, label='Val accuracy')\n",
        "  plt.title(title)\n",
        "  plt.legend(loc='upper left')\n",
        "  plt.figure()\n",
        "\n",
        "  plt.show()"
      ],
      "execution_count": 46,
      "outputs": []
    },
    {
      "cell_type": "code",
      "metadata": {
        "colab": {
          "base_uri": "https://localhost:8080/",
          "height": 298
        },
        "id": "1l48_rdsvmLS",
        "outputId": "faa5534c-dd30-47f4-b06d-bc53a3d4a5cf"
      },
      "source": [
        "# Display learning curves \n",
        "display_learning_curves(classifier.history, \"Fashion Classifier\")"
      ],
      "execution_count": 47,
      "outputs": [
        {
          "output_type": "display_data",
          "data": {
            "image/png": "[encoded data removed]",
            "text/plain": [
              "<Figure size 432x288 with 1 Axes>"
            ]
          },
          "metadata": {
            "tags": [],
            "needs_background": "light"
          }
        },
        {
          "output_type": "display_data",
          "data": {
            "text/plain": [
              "<Figure size 432x288 with 0 Axes>"
            ]
          },
          "metadata": {
            "tags": []
          }
        }
      ]
    },
    {
      "cell_type": "markdown",
      "metadata": {
        "id": "M3Mi6WaT4HmR"
      },
      "source": [
        "## Evaluate model"
      ]
    },
    {
      "cell_type": "markdown",
      "metadata": {
        "id": "3a2L0bAgDsf8"
      },
      "source": [
        "### Evaluate on test generator\n",
        "We will call evaluate on test generator dataset to evaluate how well the model is performing. The test dataset hasn't been seen by the model during the training, so it's a good way to test the model performance. "
      ]
    },
    {
      "cell_type": "code",
      "metadata": {
        "colab": {
          "base_uri": "https://localhost:8080/"
        },
        "id": "3fRjL6VFv2jH",
        "outputId": "80e9e658-b04f-4949-df95-552e554fc01b"
      },
      "source": [
        "classifier.evaluate(test_generator)"
      ],
      "execution_count": 50,
      "outputs": [
        {
          "output_type": "stream",
          "text": [
            "40/40 [==============================] - 1s 31ms/step - loss: 0.2290 - accuracy: 0.9387\n"
          ],
          "name": "stdout"
        },
        {
          "output_type": "execute_result",
          "data": {
            "text/plain": [
              "[0.2290060818195343, 0.938671886920929]"
            ]
          },
          "metadata": {
            "tags": []
          },
          "execution_count": 50
        }
      ]
    },
    {
      "cell_type": "markdown",
      "metadata": {
        "id": "uXzyZyUNEEPN"
      },
      "source": [
        "Running the classifier on the test data results in over 93% accuracy which is pretty good."
      ]
    },
    {
      "cell_type": "markdown",
      "metadata": {
        "id": "rRZICLtcC_7h"
      },
      "source": [
        "### Visualize model prediction\n",
        "Let's visualize 15 images from the test generator, and print both the true label and predicted label. First we need to preprocess the image into a format that is suitable for the classifier to take as an input"
      ]
    },
    {
      "cell_type": "code",
      "metadata": {
        "id": "xdv7-VEOfKti"
      },
      "source": [
        "# An image preprocess function \n",
        "def preprocess_image(img):\n",
        "  img_array = image.array_to_img(img)\n",
        "  x=np.expand_dims(img_array, axis=0)\n",
        "  x = preprocess_input(x) # preprocess with the preprocess_input() function from the pre-trained model\n",
        "  return x"
      ],
      "execution_count": 51,
      "outputs": []
    },
    {
      "cell_type": "code",
      "metadata": {
        "colab": {
          "base_uri": "https://localhost:8080/",
          "height": 373
        },
        "id": "Oauo9I_lWOpw",
        "outputId": "22c2019c-7912-4c02-cabd-0a71002c6756"
      },
      "source": [
        "plt.figure(figsize=(8,6))\n",
        "for i in range(15):\n",
        "  ax = plt.subplot(3, 5, i+1)\n",
        "  imgs, labels = next(test_generator)[:15]\n",
        "  img = imgs[i]\n",
        "  preprocessed_img = preprocess_image(img)\n",
        "  label = np.argmax(labels[i])\n",
        "  pred = np.argmax(classifier.predict(preprocessed_img))\n",
        "  plt.imshow(img)\n",
        "  plt.title(str(label) + \"-\" + str(pred))\n",
        "  plt.axis(\"off\")"
      ],
      "execution_count": 52,
      "outputs": [
        {
          "output_type": "display_data",
          "data": {
            "image/png": "[encoded data removed]",
            "text/plain": [
              "<Figure size 576x432 with 15 Axes>"
            ]
          },
          "metadata": {
            "tags": [],
            "needs_background": "light"
          }
        }
      ]
    },
    {
      "cell_type": "code",
      "metadata": {
        "colab": {
          "base_uri": "https://localhost:8080/"
        },
        "id": "lN3NGgLGvkCx",
        "outputId": "5f6a172e-55ab-4af7-eadd-e5317f9e55dd"
      },
      "source": [
        "test_generator.class_indices"
      ],
      "execution_count": 53,
      "outputs": [
        {
          "output_type": "execute_result",
          "data": {
            "text/plain": [
              "{'Bags': 0,\n",
              " 'Bottomwear': 1,\n",
              " 'Eyewear': 2,\n",
              " 'Fragrance': 3,\n",
              " 'Innerwear': 4,\n",
              " 'Jewellery': 5,\n",
              " 'Shoes': 6,\n",
              " 'Topwear': 7,\n",
              " 'Watches': 8}"
            ]
          },
          "metadata": {
            "tags": []
          },
          "execution_count": 53
        }
      ]
    },
    {
      "cell_type": "markdown",
      "metadata": {
        "id": "9Bx1WV2xEPyY"
      },
      "source": [
        "### Test manually on individual images\n",
        "We can also spot check manually how the classifier is doing."
      ]
    },
    {
      "cell_type": "markdown",
      "metadata": {
        "id": "o_J9vrINUDdD"
      },
      "source": [
        "First I will get some image filenames by looking at the 'Topwear' sub category."
      ]
    },
    {
      "cell_type": "code",
      "metadata": {
        "colab": {
          "base_uri": "https://localhost:8080/",
          "height": 204
        },
        "id": "l_QytqkE4G1S",
        "outputId": "126a2d27-ab1c-4a6a-c6e0-88c4307c0291"
      },
      "source": [
        "fashion_test[fashion_test.subCategory=='Topwear'].head()"
      ],
      "execution_count": 54,
      "outputs": [
        {
          "output_type": "execute_result",
          "data": {
            "text/html": [
              "<div>\n",
              "<style scoped>\n",
              "    .dataframe tbody tr th:only-of-type {\n",
              "        vertical-align: middle;\n",
              "    }\n",
              "\n",
              "    .dataframe tbody tr th {\n",
              "        vertical-align: top;\n",
              "    }\n",
              "\n",
              "    .dataframe thead th {\n",
              "        text-align: right;\n",
              "    }\n",
              "</style>\n",
              "<table border=\"1\" class=\"dataframe\">\n",
              "  <thead>\n",
              "    <tr style=\"text-align: right;\">\n",
              "      <th></th>\n",
              "      <th>id</th>\n",
              "      <th>gender</th>\n",
              "      <th>masterCategory</th>\n",
              "      <th>subCategory</th>\n",
              "      <th>articleType</th>\n",
              "      <th>baseColour</th>\n",
              "      <th>season</th>\n",
              "      <th>year</th>\n",
              "      <th>usage</th>\n",
              "      <th>productDisplayName</th>\n",
              "      <th>image_filename</th>\n",
              "    </tr>\n",
              "  </thead>\n",
              "  <tbody>\n",
              "    <tr>\n",
              "      <th>61</th>\n",
              "      <td>15528</td>\n",
              "      <td>Men</td>\n",
              "      <td>Apparel</td>\n",
              "      <td>Topwear</td>\n",
              "      <td>Tshirts</td>\n",
              "      <td>Black</td>\n",
              "      <td>Fall</td>\n",
              "      <td>2011.0</td>\n",
              "      <td>Casual</td>\n",
              "      <td>Puma Men Scribble Black Tshirts</td>\n",
              "      <td>15528.jpg</td>\n",
              "    </tr>\n",
              "    <tr>\n",
              "      <th>140</th>\n",
              "      <td>51455</td>\n",
              "      <td>Women</td>\n",
              "      <td>Apparel</td>\n",
              "      <td>Topwear</td>\n",
              "      <td>Shrug</td>\n",
              "      <td>Pink</td>\n",
              "      <td>Summer</td>\n",
              "      <td>2012.0</td>\n",
              "      <td>Casual</td>\n",
              "      <td>Tonga Women Pink Printed Shrug</td>\n",
              "      <td>51455.jpg</td>\n",
              "    </tr>\n",
              "    <tr>\n",
              "      <th>160</th>\n",
              "      <td>10859</td>\n",
              "      <td>Men</td>\n",
              "      <td>Apparel</td>\n",
              "      <td>Topwear</td>\n",
              "      <td>Tshirts</td>\n",
              "      <td>Navy Blue</td>\n",
              "      <td>Fall</td>\n",
              "      <td>2011.0</td>\n",
              "      <td>Casual</td>\n",
              "      <td>Wrangler Men Furious Rides Navy Blue T-Shirts</td>\n",
              "      <td>10859.jpg</td>\n",
              "    </tr>\n",
              "    <tr>\n",
              "      <th>180</th>\n",
              "      <td>31782</td>\n",
              "      <td>Women</td>\n",
              "      <td>Apparel</td>\n",
              "      <td>Topwear</td>\n",
              "      <td>Tops</td>\n",
              "      <td>Blue</td>\n",
              "      <td>Summer</td>\n",
              "      <td>2012.0</td>\n",
              "      <td>Casual</td>\n",
              "      <td>Lee Women Paula Blue Top</td>\n",
              "      <td>31782.jpg</td>\n",
              "    </tr>\n",
              "    <tr>\n",
              "      <th>206</th>\n",
              "      <td>27283</td>\n",
              "      <td>Women</td>\n",
              "      <td>Apparel</td>\n",
              "      <td>Topwear</td>\n",
              "      <td>Kurtas</td>\n",
              "      <td>Magenta</td>\n",
              "      <td>Fall</td>\n",
              "      <td>2011.0</td>\n",
              "      <td>Ethnic</td>\n",
              "      <td>Mother Earth Women Magenta Kurta</td>\n",
              "      <td>27283.jpg</td>\n",
              "    </tr>\n",
              "  </tbody>\n",
              "</table>\n",
              "</div>"
            ],
            "text/plain": [
              "        id gender  ...                             productDisplayName image_filename\n",
              "61   15528    Men  ...                Puma Men Scribble Black Tshirts      15528.jpg\n",
              "140  51455  Women  ...                 Tonga Women Pink Printed Shrug      51455.jpg\n",
              "160  10859    Men  ...  Wrangler Men Furious Rides Navy Blue T-Shirts      10859.jpg\n",
              "180  31782  Women  ...                       Lee Women Paula Blue Top      31782.jpg\n",
              "206  27283  Women  ...               Mother Earth Women Magenta Kurta      27283.jpg\n",
              "\n",
              "[5 rows x 11 columns]"
            ]
          },
          "metadata": {
            "tags": []
          },
          "execution_count": 54
        }
      ]
    },
    {
      "cell_type": "code",
      "metadata": {
        "id": "QqgyyeutW7GJ"
      },
      "source": [
        "# img_14 = image.load_img(\"datasets/images/59263.jpg\") # 8 watch\n",
        "# img_2 = image.load_img(\"datasets/images/21379.jpg\") # 1 bottomwear\n",
        "img = image.load_img(\"datasets/images/27283.jpg\")\n",
        "# img = image.load_img(\"shoe.jpeg\", target_size=(80,60)) # 10 shoe - just an image I downloaded from the internet"
      ],
      "execution_count": 55,
      "outputs": []
    },
    {
      "cell_type": "code",
      "metadata": {
        "colab": {
          "base_uri": "https://localhost:8080/",
          "height": 285
        },
        "id": "e9IBpSmCXgmd",
        "outputId": "4472cc16-4c36-430c-c45b-f692aa291e26"
      },
      "source": [
        "plt.imshow(img)"
      ],
      "execution_count": 56,
      "outputs": [
        {
          "output_type": "execute_result",
          "data": {
            "text/plain": [
              "<matplotlib.image.AxesImage at 0x7fcc2234b410>"
            ]
          },
          "metadata": {
            "tags": []
          },
          "execution_count": 56
        },
        {
          "output_type": "display_data",
          "data": {
            "image/png": "[encoded data removed]",
            "text/plain": [
              "<Figure size 432x288 with 1 Axes>"
            ]
          },
          "metadata": {
            "tags": [],
            "needs_background": "light"
          }
        }
      ]
    },
    {
      "cell_type": "code",
      "metadata": {
        "colab": {
          "base_uri": "https://localhost:8080/"
        },
        "id": "HTmyJEJrWyL1",
        "outputId": "82ebe97d-b879-4d90-92dd-6b1830a86409"
      },
      "source": [
        "np.argmax(classifier.predict((preprocess_image(img))))"
      ],
      "execution_count": 57,
      "outputs": [
        {
          "output_type": "execute_result",
          "data": {
            "text/plain": [
              "7"
            ]
          },
          "metadata": {
            "tags": []
          },
          "execution_count": 57
        }
      ]
    },
    {
      "cell_type": "markdown",
      "metadata": {
        "id": "20u2LPrSUU0g"
      },
      "source": [
        "The model correctly predicted it as 7 - 'Topwear'."
      ]
    },
    {
      "cell_type": "code",
      "metadata": {
        "colab": {
          "base_uri": "https://localhost:8080/"
        },
        "id": "corh5isyUfbt",
        "outputId": "7b162aa1-3ec1-41a8-d0b6-f567929cdbfb"
      },
      "source": [
        "test_generator.class_indices"
      ],
      "execution_count": 58,
      "outputs": [
        {
          "output_type": "execute_result",
          "data": {
            "text/plain": [
              "{'Bags': 0,\n",
              " 'Bottomwear': 1,\n",
              " 'Eyewear': 2,\n",
              " 'Fragrance': 3,\n",
              " 'Innerwear': 4,\n",
              " 'Jewellery': 5,\n",
              " 'Shoes': 6,\n",
              " 'Topwear': 7,\n",
              " 'Watches': 8}"
            ]
          },
          "metadata": {
            "tags": []
          },
          "execution_count": 58
        }
      ]
    }
  ]
}